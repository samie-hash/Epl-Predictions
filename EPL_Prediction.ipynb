{
 "cells": [
  {
   "cell_type": "code",
   "execution_count": 1,
   "metadata": {},
   "outputs": [
    {
     "name": "stderr",
     "output_type": "stream",
     "text": [
      "/root/anaconda3/lib/python3.7/site-packages/distributed/utils.py:139: RuntimeWarning: Couldn't detect a suitable IP address for reaching '8.8.8.8', defaulting to '127.0.0.1': [Errno 101] Network is unreachable\n",
      "  RuntimeWarning,\n"
     ]
    }
   ],
   "source": [
    "# python libraries\n",
    "from collections import namedtuple\n",
    "\n",
    "# necessary libraries\n",
    "import pandas as pd\n",
    "import numpy as np\n",
    "import pickle\n",
    "\n",
    "# visualizations\n",
    "import matplotlib\n",
    "import matplotlib.pyplot as plt\n",
    "from pandas.plotting import scatter_matrix\n",
    "\n",
    "# models\n",
    "from sklearn.neighbors import KNeighborsClassifier\n",
    "from sklearn.ensemble import RandomForestClassifier\n",
    "from xgboost import XGBClassifier\n",
    "from sklearn.tree import DecisionTreeClassifier\n",
    "from sklearn.naive_bayes import GaussianNB\n",
    "from sklearn.svm import SVC\n",
    "\n",
    "# model selection\n",
    "from sklearn.model_selection import train_test_split\n",
    "from sklearn.model_selection import cross_val_score, cross_val_predict\n",
    "from sklearn.model_selection import LeaveOneOut\n",
    "\n",
    "# preprocessing\n",
    "from sklearn.preprocessing import LabelEncoder\n",
    "from sklearn.preprocessing import StandardScaler\n",
    "\n",
    "# metrics\n",
    "from sklearn.metrics import classification_report\n",
    "from sklearn.metrics import confusion_matrix, plot_confusion_matrix\n",
    "from sklearn.metrics import precision_score, recall_score, f1_score\n",
    "\n",
    "# hyperparameters\n",
    "from sklearn.model_selection import GridSearchCV\n",
    "\n",
    "# pipeline\n",
    "from sklearn.base import BaseEstimator, TransformerMixin\n",
    "from sklearn.pipeline import Pipeline"
   ]
  },
  {
   "cell_type": "code",
   "execution_count": 2,
   "metadata": {},
   "outputs": [],
   "source": [
    "def transform_ftr(row, column_name):\n",
    "    if row[column_name] == 'H':\n",
    "        return 1\n",
    "    if row[column_name] == 'A':\n",
    "        return -1\n",
    "    else:\n",
    "        return 0"
   ]
  },
  {
   "cell_type": "code",
   "execution_count": 3,
   "metadata": {
    "scrolled": false
   },
   "outputs": [
    {
     "name": "stdout",
     "output_type": "stream",
     "text": [
      "<class 'pandas.core.frame.DataFrame'>\n",
      "RangeIndex: 380 entries, 0 to 379\n",
      "Data columns (total 11 columns):\n",
      "HomeTeam    380 non-null object\n",
      "AwayTeam    380 non-null object\n",
      "FTHG        380 non-null int64\n",
      "FTAG        380 non-null int64\n",
      "FTR         380 non-null int64\n",
      "HS          380 non-null int64\n",
      "AS          380 non-null int64\n",
      "HST         380 non-null int64\n",
      "AST         380 non-null int64\n",
      "HC          380 non-null int64\n",
      "AC          380 non-null int64\n",
      "dtypes: int64(9), object(2)\n",
      "memory usage: 32.7+ KB\n"
     ]
    }
   ],
   "source": [
    "football_data = pd.read_csv('data/2019-2020.csv')\n",
    "columns = ['HomeTeam', 'AwayTeam', 'FTHG', 'FTAG', 'FTR', 'HS', 'AS', 'HST', 'AST', 'HC', 'AC']\n",
    "football_data =  football_data[columns]\n",
    "football_data.FTR = football_data.apply(lambda row: transform_ftr(row, 'FTR'), axis=1)\n",
    "football_data.info()"
   ]
  },
  {
   "cell_type": "code",
   "execution_count": 4,
   "metadata": {},
   "outputs": [],
   "source": [
    "# Lets split the data and stratify by the Full Time Result\n",
    "X = football_data.drop('FTR', axis=1).copy()\n",
    "y = football_data['FTR'].copy()\n",
    "\n",
    "X_train, X_test, y_train, y_test = train_test_split(X, y, random_state=42, stratify=y)"
   ]
  },
  {
   "cell_type": "code",
   "execution_count": 5,
   "metadata": {
    "scrolled": true
   },
   "outputs": [
    {
     "data": {
      "text/plain": [
       " 1    45.263158\n",
       "-1    30.526316\n",
       " 0    24.210526\n",
       "Name: FTR, dtype: float64"
      ]
     },
     "execution_count": 5,
     "metadata": {},
     "output_type": "execute_result"
    }
   ],
   "source": [
    "y.value_counts() / len(y) * 100"
   ]
  },
  {
   "cell_type": "code",
   "execution_count": 6,
   "metadata": {},
   "outputs": [
    {
     "data": {
      "text/plain": [
       " 1    45.263158\n",
       "-1    30.526316\n",
       " 0    24.210526\n",
       "Name: FTR, dtype: float64"
      ]
     },
     "execution_count": 6,
     "metadata": {},
     "output_type": "execute_result"
    }
   ],
   "source": [
    "y_train.value_counts() / len(y_train) * 100"
   ]
  },
  {
   "cell_type": "code",
   "execution_count": 7,
   "metadata": {},
   "outputs": [
    {
     "name": "stdout",
     "output_type": "stream",
     "text": [
      "Average goals scored by home team: 1.4807017543859649\n",
      "Average goals scored by away team: 1.1508771929824562\n",
      "Average goals conceded by home team: 1.1508771929824562\n",
      "Average goals conceded by away team: 1.4807017543859649\n"
     ]
    }
   ],
   "source": [
    "# Average Home and Away Goals \n",
    "average_ht_goals = X_train.FTHG.sum() / X_train.shape[0]\n",
    "average_at_goals = X_train.FTAG.sum() / X_train.shape[0]\n",
    "average_ht_conceded = average_at_goals\n",
    "average_at_conceded = average_ht_goals\n",
    "print('Average goals scored by home team: {}'.format(average_ht_goals))\n",
    "print('Average goals scored by away team: {}'.format(average_at_goals))\n",
    "print('Average goals conceded by home team: {}'.format(average_ht_conceded))\n",
    "print('Average goals conceded by away team: {}'.format(average_at_conceded))"
   ]
  },
  {
   "cell_type": "markdown",
   "metadata": {},
   "source": [
    "## Feature Engineering"
   ]
  },
  {
   "cell_type": "code",
   "execution_count": 8,
   "metadata": {},
   "outputs": [
    {
     "data": {
      "text/html": [
       "<div>\n",
       "<style scoped>\n",
       "    .dataframe tbody tr th:only-of-type {\n",
       "        vertical-align: middle;\n",
       "    }\n",
       "\n",
       "    .dataframe tbody tr th {\n",
       "        vertical-align: top;\n",
       "    }\n",
       "\n",
       "    .dataframe thead th {\n",
       "        text-align: right;\n",
       "    }\n",
       "</style>\n",
       "<table border=\"1\" class=\"dataframe\">\n",
       "  <thead>\n",
       "    <tr style=\"text-align: right;\">\n",
       "      <th></th>\n",
       "      <th>HomeTeam</th>\n",
       "      <th>AwayTeam</th>\n",
       "      <th>FTHG</th>\n",
       "      <th>FTAG</th>\n",
       "      <th>HS</th>\n",
       "      <th>AS</th>\n",
       "      <th>HST</th>\n",
       "      <th>AST</th>\n",
       "      <th>HC</th>\n",
       "      <th>AC</th>\n",
       "    </tr>\n",
       "  </thead>\n",
       "  <tbody>\n",
       "    <tr>\n",
       "      <th>335</th>\n",
       "      <td>West Ham</td>\n",
       "      <td>Burnley</td>\n",
       "      <td>0</td>\n",
       "      <td>1</td>\n",
       "      <td>21</td>\n",
       "      <td>8</td>\n",
       "      <td>5</td>\n",
       "      <td>4</td>\n",
       "      <td>10</td>\n",
       "      <td>3</td>\n",
       "    </tr>\n",
       "    <tr>\n",
       "      <th>190</th>\n",
       "      <td>Newcastle</td>\n",
       "      <td>Everton</td>\n",
       "      <td>1</td>\n",
       "      <td>2</td>\n",
       "      <td>20</td>\n",
       "      <td>22</td>\n",
       "      <td>5</td>\n",
       "      <td>9</td>\n",
       "      <td>5</td>\n",
       "      <td>8</td>\n",
       "    </tr>\n",
       "    <tr>\n",
       "      <th>270</th>\n",
       "      <td>Norwich</td>\n",
       "      <td>Leicester</td>\n",
       "      <td>1</td>\n",
       "      <td>0</td>\n",
       "      <td>11</td>\n",
       "      <td>19</td>\n",
       "      <td>6</td>\n",
       "      <td>4</td>\n",
       "      <td>6</td>\n",
       "      <td>7</td>\n",
       "    </tr>\n",
       "    <tr>\n",
       "      <th>174</th>\n",
       "      <td>Newcastle</td>\n",
       "      <td>Crystal Palace</td>\n",
       "      <td>1</td>\n",
       "      <td>0</td>\n",
       "      <td>8</td>\n",
       "      <td>16</td>\n",
       "      <td>3</td>\n",
       "      <td>4</td>\n",
       "      <td>4</td>\n",
       "      <td>5</td>\n",
       "    </tr>\n",
       "    <tr>\n",
       "      <th>99</th>\n",
       "      <td>Norwich</td>\n",
       "      <td>Man United</td>\n",
       "      <td>1</td>\n",
       "      <td>3</td>\n",
       "      <td>10</td>\n",
       "      <td>21</td>\n",
       "      <td>3</td>\n",
       "      <td>11</td>\n",
       "      <td>1</td>\n",
       "      <td>10</td>\n",
       "    </tr>\n",
       "  </tbody>\n",
       "</table>\n",
       "</div>"
      ],
      "text/plain": [
       "      HomeTeam        AwayTeam  FTHG  FTAG  HS  AS  HST  AST  HC  AC\n",
       "335   West Ham         Burnley     0     1  21   8    5    4  10   3\n",
       "190  Newcastle         Everton     1     2  20  22    5    9   5   8\n",
       "270    Norwich       Leicester     1     0  11  19    6    4   6   7\n",
       "174  Newcastle  Crystal Palace     1     0   8  16    3    4   4   5\n",
       "99     Norwich      Man United     1     3  10  21    3   11   1  10"
      ]
     },
     "execution_count": 8,
     "metadata": {},
     "output_type": "execute_result"
    }
   ],
   "source": [
    "X_train.head()"
   ]
  },
  {
   "cell_type": "code",
   "execution_count": 9,
   "metadata": {},
   "outputs": [
    {
     "data": {
      "text/html": [
       "<div>\n",
       "<style scoped>\n",
       "    .dataframe tbody tr th:only-of-type {\n",
       "        vertical-align: middle;\n",
       "    }\n",
       "\n",
       "    .dataframe tbody tr th {\n",
       "        vertical-align: top;\n",
       "    }\n",
       "\n",
       "    .dataframe thead th {\n",
       "        text-align: right;\n",
       "    }\n",
       "</style>\n",
       "<table border=\"1\" class=\"dataframe\">\n",
       "  <thead>\n",
       "    <tr style=\"text-align: right;\">\n",
       "      <th></th>\n",
       "      <th>Teams</th>\n",
       "      <th>HTG</th>\n",
       "      <th>ATG</th>\n",
       "      <th>HTC</th>\n",
       "      <th>ATC</th>\n",
       "      <th>HAS</th>\n",
       "      <th>AAS</th>\n",
       "      <th>HDS</th>\n",
       "      <th>ADS</th>\n",
       "    </tr>\n",
       "  </thead>\n",
       "  <tbody>\n",
       "    <tr>\n",
       "      <th>0</th>\n",
       "      <td>Arsenal</td>\n",
       "      <td>31</td>\n",
       "      <td>12</td>\n",
       "      <td>20</td>\n",
       "      <td>17</td>\n",
       "      <td>1.469194</td>\n",
       "      <td>0.731707</td>\n",
       "      <td>0.947867</td>\n",
       "      <td>1.036585</td>\n",
       "    </tr>\n",
       "    <tr>\n",
       "      <th>1</th>\n",
       "      <td>Aston Villa</td>\n",
       "      <td>20</td>\n",
       "      <td>11</td>\n",
       "      <td>29</td>\n",
       "      <td>25</td>\n",
       "      <td>0.947867</td>\n",
       "      <td>0.670732</td>\n",
       "      <td>1.374408</td>\n",
       "      <td>1.524390</td>\n",
       "    </tr>\n",
       "    <tr>\n",
       "      <th>2</th>\n",
       "      <td>Bournemouth</td>\n",
       "      <td>21</td>\n",
       "      <td>16</td>\n",
       "      <td>29</td>\n",
       "      <td>23</td>\n",
       "      <td>0.995261</td>\n",
       "      <td>0.975610</td>\n",
       "      <td>1.374408</td>\n",
       "      <td>1.402439</td>\n",
       "    </tr>\n",
       "    <tr>\n",
       "      <th>3</th>\n",
       "      <td>Brighton</td>\n",
       "      <td>13</td>\n",
       "      <td>12</td>\n",
       "      <td>17</td>\n",
       "      <td>21</td>\n",
       "      <td>0.616114</td>\n",
       "      <td>0.731707</td>\n",
       "      <td>0.805687</td>\n",
       "      <td>1.280488</td>\n",
       "    </tr>\n",
       "    <tr>\n",
       "      <th>4</th>\n",
       "      <td>Burnley</td>\n",
       "      <td>15</td>\n",
       "      <td>14</td>\n",
       "      <td>19</td>\n",
       "      <td>20</td>\n",
       "      <td>0.710900</td>\n",
       "      <td>0.853659</td>\n",
       "      <td>0.900474</td>\n",
       "      <td>1.219512</td>\n",
       "    </tr>\n",
       "    <tr>\n",
       "      <th>5</th>\n",
       "      <td>Chelsea</td>\n",
       "      <td>22</td>\n",
       "      <td>26</td>\n",
       "      <td>11</td>\n",
       "      <td>26</td>\n",
       "      <td>1.042654</td>\n",
       "      <td>1.585366</td>\n",
       "      <td>0.521327</td>\n",
       "      <td>1.585366</td>\n",
       "    </tr>\n",
       "    <tr>\n",
       "      <th>6</th>\n",
       "      <td>Crystal Palace</td>\n",
       "      <td>12</td>\n",
       "      <td>13</td>\n",
       "      <td>15</td>\n",
       "      <td>25</td>\n",
       "      <td>0.568720</td>\n",
       "      <td>0.792683</td>\n",
       "      <td>0.710900</td>\n",
       "      <td>1.524390</td>\n",
       "    </tr>\n",
       "    <tr>\n",
       "      <th>7</th>\n",
       "      <td>Everton</td>\n",
       "      <td>21</td>\n",
       "      <td>18</td>\n",
       "      <td>20</td>\n",
       "      <td>32</td>\n",
       "      <td>0.995261</td>\n",
       "      <td>1.097561</td>\n",
       "      <td>0.947867</td>\n",
       "      <td>1.951220</td>\n",
       "    </tr>\n",
       "    <tr>\n",
       "      <th>8</th>\n",
       "      <td>Leicester</td>\n",
       "      <td>25</td>\n",
       "      <td>31</td>\n",
       "      <td>11</td>\n",
       "      <td>22</td>\n",
       "      <td>1.184834</td>\n",
       "      <td>1.890244</td>\n",
       "      <td>0.521327</td>\n",
       "      <td>1.341463</td>\n",
       "    </tr>\n",
       "    <tr>\n",
       "      <th>9</th>\n",
       "      <td>Liverpool</td>\n",
       "      <td>42</td>\n",
       "      <td>19</td>\n",
       "      <td>11</td>\n",
       "      <td>9</td>\n",
       "      <td>1.990521</td>\n",
       "      <td>1.158537</td>\n",
       "      <td>0.521327</td>\n",
       "      <td>0.548780</td>\n",
       "    </tr>\n",
       "    <tr>\n",
       "      <th>10</th>\n",
       "      <td>Man City</td>\n",
       "      <td>46</td>\n",
       "      <td>39</td>\n",
       "      <td>10</td>\n",
       "      <td>10</td>\n",
       "      <td>2.180095</td>\n",
       "      <td>2.378049</td>\n",
       "      <td>0.473934</td>\n",
       "      <td>0.609756</td>\n",
       "    </tr>\n",
       "    <tr>\n",
       "      <th>11</th>\n",
       "      <td>Man United</td>\n",
       "      <td>24</td>\n",
       "      <td>13</td>\n",
       "      <td>13</td>\n",
       "      <td>13</td>\n",
       "      <td>1.137441</td>\n",
       "      <td>0.792683</td>\n",
       "      <td>0.616114</td>\n",
       "      <td>0.792683</td>\n",
       "    </tr>\n",
       "    <tr>\n",
       "      <th>12</th>\n",
       "      <td>Newcastle</td>\n",
       "      <td>12</td>\n",
       "      <td>12</td>\n",
       "      <td>10</td>\n",
       "      <td>27</td>\n",
       "      <td>0.568720</td>\n",
       "      <td>0.731707</td>\n",
       "      <td>0.473934</td>\n",
       "      <td>1.646341</td>\n",
       "    </tr>\n",
       "    <tr>\n",
       "      <th>13</th>\n",
       "      <td>Norwich</td>\n",
       "      <td>12</td>\n",
       "      <td>5</td>\n",
       "      <td>18</td>\n",
       "      <td>30</td>\n",
       "      <td>0.568720</td>\n",
       "      <td>0.304878</td>\n",
       "      <td>0.853081</td>\n",
       "      <td>1.829268</td>\n",
       "    </tr>\n",
       "    <tr>\n",
       "      <th>14</th>\n",
       "      <td>Sheffield United</td>\n",
       "      <td>19</td>\n",
       "      <td>11</td>\n",
       "      <td>12</td>\n",
       "      <td>18</td>\n",
       "      <td>0.900474</td>\n",
       "      <td>0.670732</td>\n",
       "      <td>0.568720</td>\n",
       "      <td>1.097561</td>\n",
       "    </tr>\n",
       "    <tr>\n",
       "      <th>15</th>\n",
       "      <td>Southampton</td>\n",
       "      <td>13</td>\n",
       "      <td>22</td>\n",
       "      <td>22</td>\n",
       "      <td>18</td>\n",
       "      <td>0.616114</td>\n",
       "      <td>1.341463</td>\n",
       "      <td>1.042654</td>\n",
       "      <td>1.097561</td>\n",
       "    </tr>\n",
       "    <tr>\n",
       "      <th>16</th>\n",
       "      <td>Tottenham</td>\n",
       "      <td>25</td>\n",
       "      <td>12</td>\n",
       "      <td>14</td>\n",
       "      <td>19</td>\n",
       "      <td>1.184834</td>\n",
       "      <td>0.731707</td>\n",
       "      <td>0.663507</td>\n",
       "      <td>1.158537</td>\n",
       "    </tr>\n",
       "    <tr>\n",
       "      <th>17</th>\n",
       "      <td>Watford</td>\n",
       "      <td>20</td>\n",
       "      <td>8</td>\n",
       "      <td>22</td>\n",
       "      <td>24</td>\n",
       "      <td>0.947867</td>\n",
       "      <td>0.487805</td>\n",
       "      <td>1.042654</td>\n",
       "      <td>1.463415</td>\n",
       "    </tr>\n",
       "    <tr>\n",
       "      <th>18</th>\n",
       "      <td>West Ham</td>\n",
       "      <td>13</td>\n",
       "      <td>14</td>\n",
       "      <td>22</td>\n",
       "      <td>27</td>\n",
       "      <td>0.616114</td>\n",
       "      <td>0.853659</td>\n",
       "      <td>1.042654</td>\n",
       "      <td>1.646341</td>\n",
       "    </tr>\n",
       "    <tr>\n",
       "      <th>19</th>\n",
       "      <td>Wolves</td>\n",
       "      <td>16</td>\n",
       "      <td>20</td>\n",
       "      <td>3</td>\n",
       "      <td>16</td>\n",
       "      <td>0.758294</td>\n",
       "      <td>1.219512</td>\n",
       "      <td>0.142180</td>\n",
       "      <td>0.975610</td>\n",
       "    </tr>\n",
       "  </tbody>\n",
       "</table>\n",
       "</div>"
      ],
      "text/plain": [
       "               Teams  HTG  ATG  HTC  ATC       HAS       AAS       HDS  \\\n",
       "0            Arsenal   31   12   20   17  1.469194  0.731707  0.947867   \n",
       "1        Aston Villa   20   11   29   25  0.947867  0.670732  1.374408   \n",
       "2        Bournemouth   21   16   29   23  0.995261  0.975610  1.374408   \n",
       "3           Brighton   13   12   17   21  0.616114  0.731707  0.805687   \n",
       "4            Burnley   15   14   19   20  0.710900  0.853659  0.900474   \n",
       "5            Chelsea   22   26   11   26  1.042654  1.585366  0.521327   \n",
       "6     Crystal Palace   12   13   15   25  0.568720  0.792683  0.710900   \n",
       "7            Everton   21   18   20   32  0.995261  1.097561  0.947867   \n",
       "8          Leicester   25   31   11   22  1.184834  1.890244  0.521327   \n",
       "9          Liverpool   42   19   11    9  1.990521  1.158537  0.521327   \n",
       "10          Man City   46   39   10   10  2.180095  2.378049  0.473934   \n",
       "11        Man United   24   13   13   13  1.137441  0.792683  0.616114   \n",
       "12         Newcastle   12   12   10   27  0.568720  0.731707  0.473934   \n",
       "13           Norwich   12    5   18   30  0.568720  0.304878  0.853081   \n",
       "14  Sheffield United   19   11   12   18  0.900474  0.670732  0.568720   \n",
       "15       Southampton   13   22   22   18  0.616114  1.341463  1.042654   \n",
       "16         Tottenham   25   12   14   19  1.184834  0.731707  0.663507   \n",
       "17           Watford   20    8   22   24  0.947867  0.487805  1.042654   \n",
       "18          West Ham   13   14   22   27  0.616114  0.853659  1.042654   \n",
       "19            Wolves   16   20    3   16  0.758294  1.219512  0.142180   \n",
       "\n",
       "         ADS  \n",
       "0   1.036585  \n",
       "1   1.524390  \n",
       "2   1.402439  \n",
       "3   1.280488  \n",
       "4   1.219512  \n",
       "5   1.585366  \n",
       "6   1.524390  \n",
       "7   1.951220  \n",
       "8   1.341463  \n",
       "9   0.548780  \n",
       "10  0.609756  \n",
       "11  0.792683  \n",
       "12  1.646341  \n",
       "13  1.829268  \n",
       "14  1.097561  \n",
       "15  1.097561  \n",
       "16  1.158537  \n",
       "17  1.463415  \n",
       "18  1.646341  \n",
       "19  0.975610  "
      ]
     },
     "execution_count": 9,
     "metadata": {},
     "output_type": "execute_result"
    }
   ],
   "source": [
    "ht = X_train.groupby('HomeTeam')\n",
    "at = X_train.groupby('AwayTeam')\n",
    "\n",
    "df = pd.DataFrame(columns=['Teams', 'HTG', 'ATG', 'HTC', 'ATC', 'HAS', 'AAS', 'HDS', 'ADS'])\n",
    "teams = ht.groups.keys()\n",
    "num_games = X_train.shape[0] / 20\n",
    "df['Teams'] = teams\n",
    "df['HTG'] = ht.FTHG.sum().values\n",
    "df['ATG'] = at.FTAG.sum().values\n",
    "df['HTC'] = ht.FTAG.sum().values\n",
    "df['ATC'] = at.FTHG.sum().values\n",
    "df['HAS'] = df['HTG'] / num_games / average_ht_goals\n",
    "df['AAS'] = df['ATG'] / num_games / average_at_goals\n",
    "df['HDS'] = df['HTC'] / num_games / average_at_conceded\n",
    "df['ADS'] = df['ATC'] / num_games / average_ht_conceded\n",
    "df"
   ]
  },
  {
   "cell_type": "code",
   "execution_count": 10,
   "metadata": {},
   "outputs": [
    {
     "name": "stderr",
     "output_type": "stream",
     "text": [
      "/root/anaconda3/lib/python3.7/site-packages/pandas/plotting/_tools.py:307: MatplotlibDeprecationWarning: \n",
      "The rowNum attribute was deprecated in Matplotlib 3.2 and will be removed two minor releases later. Use ax.get_subplotspec().rowspan.start instead.\n",
      "  layout[ax.rowNum, ax.colNum] = ax.get_visible()\n",
      "/root/anaconda3/lib/python3.7/site-packages/pandas/plotting/_tools.py:307: MatplotlibDeprecationWarning: \n",
      "The colNum attribute was deprecated in Matplotlib 3.2 and will be removed two minor releases later. Use ax.get_subplotspec().colspan.start instead.\n",
      "  layout[ax.rowNum, ax.colNum] = ax.get_visible()\n",
      "/root/anaconda3/lib/python3.7/site-packages/pandas/plotting/_tools.py:313: MatplotlibDeprecationWarning: \n",
      "The rowNum attribute was deprecated in Matplotlib 3.2 and will be removed two minor releases later. Use ax.get_subplotspec().rowspan.start instead.\n",
      "  if not layout[ax.rowNum + 1, ax.colNum]:\n",
      "/root/anaconda3/lib/python3.7/site-packages/pandas/plotting/_tools.py:313: MatplotlibDeprecationWarning: \n",
      "The colNum attribute was deprecated in Matplotlib 3.2 and will be removed two minor releases later. Use ax.get_subplotspec().colspan.start instead.\n",
      "  if not layout[ax.rowNum + 1, ax.colNum]:\n"
     ]
    },
    {
     "data": {
      "image/png": "[encoded data removed]",
      "text/plain": [
       "<Figure size 864x576 with 64 Axes>"
      ]
     },
     "metadata": {
      "needs_background": "light"
     },
     "output_type": "display_data"
    }
   ],
   "source": [
    "scatter_matrix(df.drop('Teams', axis=1), figsize=(12, 8))\n",
    "plt.show()"
   ]
  },
  {
   "cell_type": "markdown",
   "metadata": {},
   "source": [
    "We can see some correlations among the features, we take care of this situation by removing features that are correlated"
   ]
  },
  {
   "cell_type": "code",
   "execution_count": 11,
   "metadata": {},
   "outputs": [
    {
     "name": "stderr",
     "output_type": "stream",
     "text": [
      "/root/anaconda3/lib/python3.7/site-packages/pandas/core/indexing.py:362: SettingWithCopyWarning: \n",
      "A value is trying to be set on a copy of a slice from a DataFrame.\n",
      "Try using .loc[row_indexer,col_indexer] = value instead\n",
      "\n",
      "See the caveats in the documentation: http://pandas.pydata.org/pandas-docs/stable/indexing.html#indexing-view-versus-copy\n",
      "  self.obj[key] = _infer_fill_value(value)\n",
      "/root/anaconda3/lib/python3.7/site-packages/pandas/core/indexing.py:543: SettingWithCopyWarning: \n",
      "A value is trying to be set on a copy of a slice from a DataFrame.\n",
      "Try using .loc[row_indexer,col_indexer] = value instead\n",
      "\n",
      "See the caveats in the documentation: http://pandas.pydata.org/pandas-docs/stable/indexing.html#indexing-view-versus-copy\n",
      "  self.obj[item] = s\n"
     ]
    },
    {
     "data": {
      "text/html": [
       "<div>\n",
       "<style scoped>\n",
       "    .dataframe tbody tr th:only-of-type {\n",
       "        vertical-align: middle;\n",
       "    }\n",
       "\n",
       "    .dataframe tbody tr th {\n",
       "        vertical-align: top;\n",
       "    }\n",
       "\n",
       "    .dataframe thead th {\n",
       "        text-align: right;\n",
       "    }\n",
       "</style>\n",
       "<table border=\"1\" class=\"dataframe\">\n",
       "  <thead>\n",
       "    <tr style=\"text-align: right;\">\n",
       "      <th></th>\n",
       "      <th>HomeTeam</th>\n",
       "      <th>AwayTeam</th>\n",
       "      <th>FTHG</th>\n",
       "      <th>FTAG</th>\n",
       "      <th>HS</th>\n",
       "      <th>AS</th>\n",
       "      <th>HST</th>\n",
       "      <th>AST</th>\n",
       "      <th>HC</th>\n",
       "      <th>AC</th>\n",
       "      <th>HAS</th>\n",
       "      <th>AAS</th>\n",
       "      <th>HDS</th>\n",
       "      <th>ADS</th>\n",
       "      <th>HXG</th>\n",
       "      <th>AXG</th>\n",
       "    </tr>\n",
       "  </thead>\n",
       "  <tbody>\n",
       "    <tr>\n",
       "      <th>335</th>\n",
       "      <td>West Ham</td>\n",
       "      <td>Burnley</td>\n",
       "      <td>0</td>\n",
       "      <td>1</td>\n",
       "      <td>21</td>\n",
       "      <td>8</td>\n",
       "      <td>5</td>\n",
       "      <td>4</td>\n",
       "      <td>10</td>\n",
       "      <td>3</td>\n",
       "      <td>0.616114</td>\n",
       "      <td>0.853659</td>\n",
       "      <td>1.042654</td>\n",
       "      <td>1.646341</td>\n",
       "      <td>1.501926</td>\n",
       "      <td>1.024362</td>\n",
       "    </tr>\n",
       "    <tr>\n",
       "      <th>190</th>\n",
       "      <td>Newcastle</td>\n",
       "      <td>Everton</td>\n",
       "      <td>1</td>\n",
       "      <td>2</td>\n",
       "      <td>20</td>\n",
       "      <td>22</td>\n",
       "      <td>5</td>\n",
       "      <td>9</td>\n",
       "      <td>5</td>\n",
       "      <td>8</td>\n",
       "      <td>0.568720</td>\n",
       "      <td>0.731707</td>\n",
       "      <td>0.473934</td>\n",
       "      <td>1.646341</td>\n",
       "      <td>1.386393</td>\n",
       "      <td>0.399102</td>\n",
       "    </tr>\n",
       "    <tr>\n",
       "      <th>270</th>\n",
       "      <td>Norwich</td>\n",
       "      <td>Leicester</td>\n",
       "      <td>1</td>\n",
       "      <td>0</td>\n",
       "      <td>11</td>\n",
       "      <td>19</td>\n",
       "      <td>6</td>\n",
       "      <td>4</td>\n",
       "      <td>6</td>\n",
       "      <td>7</td>\n",
       "      <td>0.568720</td>\n",
       "      <td>0.304878</td>\n",
       "      <td>0.853081</td>\n",
       "      <td>1.829268</td>\n",
       "      <td>1.540436</td>\n",
       "      <td>0.299327</td>\n",
       "    </tr>\n",
       "    <tr>\n",
       "      <th>174</th>\n",
       "      <td>Newcastle</td>\n",
       "      <td>Crystal Palace</td>\n",
       "      <td>1</td>\n",
       "      <td>0</td>\n",
       "      <td>8</td>\n",
       "      <td>16</td>\n",
       "      <td>3</td>\n",
       "      <td>4</td>\n",
       "      <td>4</td>\n",
       "      <td>5</td>\n",
       "      <td>0.568720</td>\n",
       "      <td>0.731707</td>\n",
       "      <td>0.473934</td>\n",
       "      <td>1.646341</td>\n",
       "      <td>1.386393</td>\n",
       "      <td>0.399102</td>\n",
       "    </tr>\n",
       "    <tr>\n",
       "      <th>99</th>\n",
       "      <td>Norwich</td>\n",
       "      <td>Man United</td>\n",
       "      <td>1</td>\n",
       "      <td>3</td>\n",
       "      <td>10</td>\n",
       "      <td>21</td>\n",
       "      <td>3</td>\n",
       "      <td>11</td>\n",
       "      <td>1</td>\n",
       "      <td>10</td>\n",
       "      <td>0.568720</td>\n",
       "      <td>0.304878</td>\n",
       "      <td>0.853081</td>\n",
       "      <td>1.829268</td>\n",
       "      <td>1.540436</td>\n",
       "      <td>0.299327</td>\n",
       "    </tr>\n",
       "  </tbody>\n",
       "</table>\n",
       "</div>"
      ],
      "text/plain": [
       "      HomeTeam        AwayTeam  FTHG  FTAG  HS  AS  HST  AST  HC  AC  \\\n",
       "335   West Ham         Burnley     0     1  21   8    5    4  10   3   \n",
       "190  Newcastle         Everton     1     2  20  22    5    9   5   8   \n",
       "270    Norwich       Leicester     1     0  11  19    6    4   6   7   \n",
       "174  Newcastle  Crystal Palace     1     0   8  16    3    4   4   5   \n",
       "99     Norwich      Man United     1     3  10  21    3   11   1  10   \n",
       "\n",
       "          HAS       AAS       HDS       ADS       HXG       AXG  \n",
       "335  0.616114  0.853659  1.042654  1.646341  1.501926  1.024362  \n",
       "190  0.568720  0.731707  0.473934  1.646341  1.386393  0.399102  \n",
       "270  0.568720  0.304878  0.853081  1.829268  1.540436  0.299327  \n",
       "174  0.568720  0.731707  0.473934  1.646341  1.386393  0.399102  \n",
       "99   0.568720  0.304878  0.853081  1.829268  1.540436  0.299327  "
      ]
     },
     "execution_count": 11,
     "metadata": {},
     "output_type": "execute_result"
    }
   ],
   "source": [
    "HAS = []\n",
    "AAS = []\n",
    "HDS = []\n",
    "ADS = []\n",
    "HXG = []\n",
    "AXG = []\n",
    "\n",
    "for idx, row in X_train.iterrows():\n",
    "    HAS.append(df[df['Teams'] == row['HomeTeam']]['HAS'].values[0])\n",
    "    AAS.append(df[df['Teams'] == row['HomeTeam']]['AAS'].values[0])\n",
    "    HDS.append(df[df['Teams'] == row['HomeTeam']]['HDS'].values[0])\n",
    "    ADS.append(df[df['Teams'] == row['HomeTeam']]['ADS'].values[0])\n",
    "X_train.loc[:, 'HAS'] = HAS\n",
    "X_train.loc[:, 'AAS'] = AAS\n",
    "X_train.loc[:, 'HDS'] = HDS\n",
    "X_train.loc[:, 'ADS'] = ADS\n",
    "\n",
    "X_train.loc[:, 'HXG'] = np.array(HAS) * np.array(ADS) * average_ht_goals\n",
    "X_train.loc[:, 'AXG'] = np.array(AAS) * np.array(HDS) * average_at_goals\n",
    "X_train.head()"
   ]
  },
  {
   "cell_type": "code",
   "execution_count": 12,
   "metadata": {},
   "outputs": [
    {
     "name": "stderr",
     "output_type": "stream",
     "text": [
      "/root/anaconda3/lib/python3.7/site-packages/ipykernel_launcher.py:10: UserWarning: Boolean Series key will be reindexed to match DataFrame index.\n",
      "  # Remove the CWD from sys.path while we load stuff.\n",
      "/root/anaconda3/lib/python3.7/site-packages/ipykernel_launcher.py:11: UserWarning: Boolean Series key will be reindexed to match DataFrame index.\n",
      "  # This is added back by InteractiveShellApp.init_path()\n"
     ]
    },
    {
     "data": {
      "text/html": [
       "<div>\n",
       "<style scoped>\n",
       "    .dataframe tbody tr th:only-of-type {\n",
       "        vertical-align: middle;\n",
       "    }\n",
       "\n",
       "    .dataframe tbody tr th {\n",
       "        vertical-align: top;\n",
       "    }\n",
       "\n",
       "    .dataframe thead th {\n",
       "        text-align: right;\n",
       "    }\n",
       "</style>\n",
       "<table border=\"1\" class=\"dataframe\">\n",
       "  <thead>\n",
       "    <tr style=\"text-align: right;\">\n",
       "      <th></th>\n",
       "      <th>HomeTeam</th>\n",
       "      <th>AwayTeam</th>\n",
       "      <th>FTHG</th>\n",
       "      <th>FTAG</th>\n",
       "      <th>HS</th>\n",
       "      <th>AS</th>\n",
       "      <th>HST</th>\n",
       "      <th>AST</th>\n",
       "      <th>HC</th>\n",
       "      <th>AC</th>\n",
       "      <th>...</th>\n",
       "      <th>HDS</th>\n",
       "      <th>ADS</th>\n",
       "      <th>HXG</th>\n",
       "      <th>AXG</th>\n",
       "      <th>PastFTHG</th>\n",
       "      <th>PastFTAG</th>\n",
       "      <th>PastHS</th>\n",
       "      <th>PastAS</th>\n",
       "      <th>PastHST</th>\n",
       "      <th>PastAST</th>\n",
       "    </tr>\n",
       "  </thead>\n",
       "  <tbody>\n",
       "    <tr>\n",
       "      <th>265</th>\n",
       "      <td>West Ham</td>\n",
       "      <td>Everton</td>\n",
       "      <td>1</td>\n",
       "      <td>1</td>\n",
       "      <td>12</td>\n",
       "      <td>11</td>\n",
       "      <td>6</td>\n",
       "      <td>3</td>\n",
       "      <td>7</td>\n",
       "      <td>6</td>\n",
       "      <td>...</td>\n",
       "      <td>1.042654</td>\n",
       "      <td>1.646341</td>\n",
       "      <td>1.501926</td>\n",
       "      <td>1.024362</td>\n",
       "      <td>5.0</td>\n",
       "      <td>4.0</td>\n",
       "      <td>39.0</td>\n",
       "      <td>41.0</td>\n",
       "      <td>20.0</td>\n",
       "      <td>16.0</td>\n",
       "    </tr>\n",
       "    <tr>\n",
       "      <th>266</th>\n",
       "      <td>Bournemouth</td>\n",
       "      <td>Watford</td>\n",
       "      <td>0</td>\n",
       "      <td>3</td>\n",
       "      <td>10</td>\n",
       "      <td>18</td>\n",
       "      <td>1</td>\n",
       "      <td>6</td>\n",
       "      <td>5</td>\n",
       "      <td>5</td>\n",
       "      <td>...</td>\n",
       "      <td>1.374408</td>\n",
       "      <td>1.402439</td>\n",
       "      <td>2.066752</td>\n",
       "      <td>1.543194</td>\n",
       "      <td>3.0</td>\n",
       "      <td>4.0</td>\n",
       "      <td>23.0</td>\n",
       "      <td>54.0</td>\n",
       "      <td>8.0</td>\n",
       "      <td>12.0</td>\n",
       "    </tr>\n",
       "    <tr>\n",
       "      <th>267</th>\n",
       "      <td>Man City</td>\n",
       "      <td>Burnley</td>\n",
       "      <td>5</td>\n",
       "      <td>0</td>\n",
       "      <td>19</td>\n",
       "      <td>1</td>\n",
       "      <td>7</td>\n",
       "      <td>0</td>\n",
       "      <td>3</td>\n",
       "      <td>1</td>\n",
       "      <td>...</td>\n",
       "      <td>0.473934</td>\n",
       "      <td>0.609756</td>\n",
       "      <td>1.968335</td>\n",
       "      <td>1.297082</td>\n",
       "      <td>11.0</td>\n",
       "      <td>3.0</td>\n",
       "      <td>60.0</td>\n",
       "      <td>29.0</td>\n",
       "      <td>21.0</td>\n",
       "      <td>8.0</td>\n",
       "    </tr>\n",
       "    <tr>\n",
       "      <th>268</th>\n",
       "      <td>Sheffield United</td>\n",
       "      <td>Arsenal</td>\n",
       "      <td>1</td>\n",
       "      <td>0</td>\n",
       "      <td>8</td>\n",
       "      <td>9</td>\n",
       "      <td>2</td>\n",
       "      <td>3</td>\n",
       "      <td>7</td>\n",
       "      <td>12</td>\n",
       "      <td>...</td>\n",
       "      <td>0.568720</td>\n",
       "      <td>1.097561</td>\n",
       "      <td>1.463415</td>\n",
       "      <td>0.439012</td>\n",
       "      <td>3.0</td>\n",
       "      <td>7.0</td>\n",
       "      <td>19.0</td>\n",
       "      <td>34.0</td>\n",
       "      <td>6.0</td>\n",
       "      <td>13.0</td>\n",
       "    </tr>\n",
       "    <tr>\n",
       "      <th>269</th>\n",
       "      <td>Everton</td>\n",
       "      <td>Bournemouth</td>\n",
       "      <td>1</td>\n",
       "      <td>3</td>\n",
       "      <td>13</td>\n",
       "      <td>13</td>\n",
       "      <td>5</td>\n",
       "      <td>7</td>\n",
       "      <td>2</td>\n",
       "      <td>5</td>\n",
       "      <td>...</td>\n",
       "      <td>0.947867</td>\n",
       "      <td>1.951220</td>\n",
       "      <td>2.875481</td>\n",
       "      <td>1.197306</td>\n",
       "      <td>3.0</td>\n",
       "      <td>3.0</td>\n",
       "      <td>39.0</td>\n",
       "      <td>13.0</td>\n",
       "      <td>16.0</td>\n",
       "      <td>7.0</td>\n",
       "    </tr>\n",
       "    <tr>\n",
       "      <th>270</th>\n",
       "      <td>Watford</td>\n",
       "      <td>Crystal Palace</td>\n",
       "      <td>0</td>\n",
       "      <td>0</td>\n",
       "      <td>13</td>\n",
       "      <td>3</td>\n",
       "      <td>3</td>\n",
       "      <td>0</td>\n",
       "      <td>6</td>\n",
       "      <td>2</td>\n",
       "      <td>...</td>\n",
       "      <td>1.042654</td>\n",
       "      <td>1.463415</td>\n",
       "      <td>2.053915</td>\n",
       "      <td>0.585350</td>\n",
       "      <td>1.0</td>\n",
       "      <td>3.0</td>\n",
       "      <td>36.0</td>\n",
       "      <td>22.0</td>\n",
       "      <td>6.0</td>\n",
       "      <td>7.0</td>\n",
       "    </tr>\n",
       "    <tr>\n",
       "      <th>271</th>\n",
       "      <td>Everton</td>\n",
       "      <td>Newcastle</td>\n",
       "      <td>2</td>\n",
       "      <td>2</td>\n",
       "      <td>17</td>\n",
       "      <td>8</td>\n",
       "      <td>8</td>\n",
       "      <td>2</td>\n",
       "      <td>6</td>\n",
       "      <td>4</td>\n",
       "      <td>...</td>\n",
       "      <td>0.947867</td>\n",
       "      <td>1.951220</td>\n",
       "      <td>2.875481</td>\n",
       "      <td>1.197306</td>\n",
       "      <td>2.0</td>\n",
       "      <td>2.0</td>\n",
       "      <td>26.0</td>\n",
       "      <td>24.0</td>\n",
       "      <td>11.0</td>\n",
       "      <td>5.0</td>\n",
       "    </tr>\n",
       "    <tr>\n",
       "      <th>272</th>\n",
       "      <td>Arsenal</td>\n",
       "      <td>Newcastle</td>\n",
       "      <td>4</td>\n",
       "      <td>0</td>\n",
       "      <td>15</td>\n",
       "      <td>10</td>\n",
       "      <td>7</td>\n",
       "      <td>2</td>\n",
       "      <td>5</td>\n",
       "      <td>6</td>\n",
       "      <td>...</td>\n",
       "      <td>0.947867</td>\n",
       "      <td>1.036585</td>\n",
       "      <td>2.255028</td>\n",
       "      <td>0.798204</td>\n",
       "      <td>8.0</td>\n",
       "      <td>0.0</td>\n",
       "      <td>32.0</td>\n",
       "      <td>16.0</td>\n",
       "      <td>14.0</td>\n",
       "      <td>3.0</td>\n",
       "    </tr>\n",
       "    <tr>\n",
       "      <th>273</th>\n",
       "      <td>West Ham</td>\n",
       "      <td>Arsenal</td>\n",
       "      <td>1</td>\n",
       "      <td>3</td>\n",
       "      <td>11</td>\n",
       "      <td>10</td>\n",
       "      <td>4</td>\n",
       "      <td>3</td>\n",
       "      <td>4</td>\n",
       "      <td>3</td>\n",
       "      <td>...</td>\n",
       "      <td>1.042654</td>\n",
       "      <td>1.646341</td>\n",
       "      <td>1.501926</td>\n",
       "      <td>1.024362</td>\n",
       "      <td>4.0</td>\n",
       "      <td>6.0</td>\n",
       "      <td>27.0</td>\n",
       "      <td>33.0</td>\n",
       "      <td>14.0</td>\n",
       "      <td>16.0</td>\n",
       "    </tr>\n",
       "    <tr>\n",
       "      <th>274</th>\n",
       "      <td>Sheffield United</td>\n",
       "      <td>Aston Villa</td>\n",
       "      <td>2</td>\n",
       "      <td>0</td>\n",
       "      <td>7</td>\n",
       "      <td>8</td>\n",
       "      <td>3</td>\n",
       "      <td>0</td>\n",
       "      <td>3</td>\n",
       "      <td>2</td>\n",
       "      <td>...</td>\n",
       "      <td>0.568720</td>\n",
       "      <td>1.097561</td>\n",
       "      <td>1.463415</td>\n",
       "      <td>0.439012</td>\n",
       "      <td>2.0</td>\n",
       "      <td>2.0</td>\n",
       "      <td>11.0</td>\n",
       "      <td>24.0</td>\n",
       "      <td>4.0</td>\n",
       "      <td>3.0</td>\n",
       "    </tr>\n",
       "    <tr>\n",
       "      <th>275</th>\n",
       "      <td>Crystal Palace</td>\n",
       "      <td>Arsenal</td>\n",
       "      <td>1</td>\n",
       "      <td>1</td>\n",
       "      <td>6</td>\n",
       "      <td>7</td>\n",
       "      <td>3</td>\n",
       "      <td>4</td>\n",
       "      <td>1</td>\n",
       "      <td>4</td>\n",
       "      <td>...</td>\n",
       "      <td>0.710900</td>\n",
       "      <td>1.524390</td>\n",
       "      <td>1.283697</td>\n",
       "      <td>0.648541</td>\n",
       "      <td>3.0</td>\n",
       "      <td>4.0</td>\n",
       "      <td>19.0</td>\n",
       "      <td>34.0</td>\n",
       "      <td>7.0</td>\n",
       "      <td>20.0</td>\n",
       "    </tr>\n",
       "    <tr>\n",
       "      <th>276</th>\n",
       "      <td>Sheffield United</td>\n",
       "      <td>Man City</td>\n",
       "      <td>0</td>\n",
       "      <td>1</td>\n",
       "      <td>4</td>\n",
       "      <td>18</td>\n",
       "      <td>1</td>\n",
       "      <td>5</td>\n",
       "      <td>5</td>\n",
       "      <td>13</td>\n",
       "      <td>...</td>\n",
       "      <td>0.568720</td>\n",
       "      <td>1.097561</td>\n",
       "      <td>1.463415</td>\n",
       "      <td>0.439012</td>\n",
       "      <td>0.0</td>\n",
       "      <td>6.0</td>\n",
       "      <td>4.0</td>\n",
       "      <td>41.0</td>\n",
       "      <td>1.0</td>\n",
       "      <td>14.0</td>\n",
       "    </tr>\n",
       "    <tr>\n",
       "      <th>277</th>\n",
       "      <td>Arsenal</td>\n",
       "      <td>Burnley</td>\n",
       "      <td>2</td>\n",
       "      <td>1</td>\n",
       "      <td>16</td>\n",
       "      <td>18</td>\n",
       "      <td>9</td>\n",
       "      <td>5</td>\n",
       "      <td>10</td>\n",
       "      <td>7</td>\n",
       "      <td>...</td>\n",
       "      <td>0.947867</td>\n",
       "      <td>1.036585</td>\n",
       "      <td>2.255028</td>\n",
       "      <td>0.798204</td>\n",
       "      <td>7.0</td>\n",
       "      <td>3.0</td>\n",
       "      <td>40.0</td>\n",
       "      <td>28.0</td>\n",
       "      <td>24.0</td>\n",
       "      <td>8.0</td>\n",
       "    </tr>\n",
       "    <tr>\n",
       "      <th>278</th>\n",
       "      <td>Aston Villa</td>\n",
       "      <td>Burnley</td>\n",
       "      <td>2</td>\n",
       "      <td>2</td>\n",
       "      <td>16</td>\n",
       "      <td>10</td>\n",
       "      <td>3</td>\n",
       "      <td>3</td>\n",
       "      <td>7</td>\n",
       "      <td>3</td>\n",
       "      <td>...</td>\n",
       "      <td>1.374408</td>\n",
       "      <td>1.524390</td>\n",
       "      <td>2.139495</td>\n",
       "      <td>1.060946</td>\n",
       "      <td>2.0</td>\n",
       "      <td>2.0</td>\n",
       "      <td>16.0</td>\n",
       "      <td>10.0</td>\n",
       "      <td>3.0</td>\n",
       "      <td>3.0</td>\n",
       "    </tr>\n",
       "    <tr>\n",
       "      <th>279</th>\n",
       "      <td>Arsenal</td>\n",
       "      <td>Leicester</td>\n",
       "      <td>1</td>\n",
       "      <td>1</td>\n",
       "      <td>11</td>\n",
       "      <td>13</td>\n",
       "      <td>7</td>\n",
       "      <td>5</td>\n",
       "      <td>10</td>\n",
       "      <td>1</td>\n",
       "      <td>...</td>\n",
       "      <td>0.947867</td>\n",
       "      <td>1.036585</td>\n",
       "      <td>2.255028</td>\n",
       "      <td>0.798204</td>\n",
       "      <td>5.0</td>\n",
       "      <td>1.0</td>\n",
       "      <td>24.0</td>\n",
       "      <td>13.0</td>\n",
       "      <td>15.0</td>\n",
       "      <td>5.0</td>\n",
       "    </tr>\n",
       "    <tr>\n",
       "      <th>280</th>\n",
       "      <td>Everton</td>\n",
       "      <td>Liverpool</td>\n",
       "      <td>0</td>\n",
       "      <td>0</td>\n",
       "      <td>9</td>\n",
       "      <td>10</td>\n",
       "      <td>3</td>\n",
       "      <td>3</td>\n",
       "      <td>1</td>\n",
       "      <td>6</td>\n",
       "      <td>...</td>\n",
       "      <td>0.947867</td>\n",
       "      <td>1.951220</td>\n",
       "      <td>2.875481</td>\n",
       "      <td>1.197306</td>\n",
       "      <td>0.0</td>\n",
       "      <td>0.0</td>\n",
       "      <td>9.0</td>\n",
       "      <td>10.0</td>\n",
       "      <td>3.0</td>\n",
       "      <td>3.0</td>\n",
       "    </tr>\n",
       "    <tr>\n",
       "      <th>281</th>\n",
       "      <td>Man City</td>\n",
       "      <td>Newcastle</td>\n",
       "      <td>5</td>\n",
       "      <td>0</td>\n",
       "      <td>23</td>\n",
       "      <td>6</td>\n",
       "      <td>9</td>\n",
       "      <td>1</td>\n",
       "      <td>8</td>\n",
       "      <td>1</td>\n",
       "      <td>...</td>\n",
       "      <td>0.473934</td>\n",
       "      <td>0.609756</td>\n",
       "      <td>1.968335</td>\n",
       "      <td>1.297082</td>\n",
       "      <td>5.0</td>\n",
       "      <td>0.0</td>\n",
       "      <td>23.0</td>\n",
       "      <td>6.0</td>\n",
       "      <td>9.0</td>\n",
       "      <td>1.0</td>\n",
       "    </tr>\n",
       "    <tr>\n",
       "      <th>282</th>\n",
       "      <td>Crystal Palace</td>\n",
       "      <td>Chelsea</td>\n",
       "      <td>2</td>\n",
       "      <td>3</td>\n",
       "      <td>13</td>\n",
       "      <td>14</td>\n",
       "      <td>4</td>\n",
       "      <td>6</td>\n",
       "      <td>7</td>\n",
       "      <td>9</td>\n",
       "      <td>...</td>\n",
       "      <td>0.710900</td>\n",
       "      <td>1.524390</td>\n",
       "      <td>1.283697</td>\n",
       "      <td>0.648541</td>\n",
       "      <td>2.0</td>\n",
       "      <td>3.0</td>\n",
       "      <td>13.0</td>\n",
       "      <td>14.0</td>\n",
       "      <td>4.0</td>\n",
       "      <td>6.0</td>\n",
       "    </tr>\n",
       "    <tr>\n",
       "      <th>283</th>\n",
       "      <td>Arsenal</td>\n",
       "      <td>Norwich</td>\n",
       "      <td>4</td>\n",
       "      <td>0</td>\n",
       "      <td>13</td>\n",
       "      <td>8</td>\n",
       "      <td>8</td>\n",
       "      <td>2</td>\n",
       "      <td>6</td>\n",
       "      <td>2</td>\n",
       "      <td>...</td>\n",
       "      <td>0.947867</td>\n",
       "      <td>1.036585</td>\n",
       "      <td>2.255028</td>\n",
       "      <td>0.798204</td>\n",
       "      <td>4.0</td>\n",
       "      <td>0.0</td>\n",
       "      <td>13.0</td>\n",
       "      <td>8.0</td>\n",
       "      <td>8.0</td>\n",
       "      <td>2.0</td>\n",
       "    </tr>\n",
       "    <tr>\n",
       "      <th>284</th>\n",
       "      <td>Watford</td>\n",
       "      <td>West Ham</td>\n",
       "      <td>1</td>\n",
       "      <td>3</td>\n",
       "      <td>23</td>\n",
       "      <td>16</td>\n",
       "      <td>3</td>\n",
       "      <td>10</td>\n",
       "      <td>8</td>\n",
       "      <td>7</td>\n",
       "      <td>...</td>\n",
       "      <td>1.042654</td>\n",
       "      <td>1.463415</td>\n",
       "      <td>2.053915</td>\n",
       "      <td>0.585350</td>\n",
       "      <td>1.0</td>\n",
       "      <td>3.0</td>\n",
       "      <td>23.0</td>\n",
       "      <td>16.0</td>\n",
       "      <td>3.0</td>\n",
       "      <td>10.0</td>\n",
       "    </tr>\n",
       "  </tbody>\n",
       "</table>\n",
       "<p>20 rows × 22 columns</p>\n",
       "</div>"
      ],
      "text/plain": [
       "             HomeTeam        AwayTeam  FTHG  FTAG  HS  AS  HST  AST  HC  AC  \\\n",
       "265          West Ham         Everton     1     1  12  11    6    3   7   6   \n",
       "266       Bournemouth         Watford     0     3  10  18    1    6   5   5   \n",
       "267          Man City         Burnley     5     0  19   1    7    0   3   1   \n",
       "268  Sheffield United         Arsenal     1     0   8   9    2    3   7  12   \n",
       "269           Everton     Bournemouth     1     3  13  13    5    7   2   5   \n",
       "270           Watford  Crystal Palace     0     0  13   3    3    0   6   2   \n",
       "271           Everton       Newcastle     2     2  17   8    8    2   6   4   \n",
       "272           Arsenal       Newcastle     4     0  15  10    7    2   5   6   \n",
       "273          West Ham         Arsenal     1     3  11  10    4    3   4   3   \n",
       "274  Sheffield United     Aston Villa     2     0   7   8    3    0   3   2   \n",
       "275    Crystal Palace         Arsenal     1     1   6   7    3    4   1   4   \n",
       "276  Sheffield United        Man City     0     1   4  18    1    5   5  13   \n",
       "277           Arsenal         Burnley     2     1  16  18    9    5  10   7   \n",
       "278       Aston Villa         Burnley     2     2  16  10    3    3   7   3   \n",
       "279           Arsenal       Leicester     1     1  11  13    7    5  10   1   \n",
       "280           Everton       Liverpool     0     0   9  10    3    3   1   6   \n",
       "281          Man City       Newcastle     5     0  23   6    9    1   8   1   \n",
       "282    Crystal Palace         Chelsea     2     3  13  14    4    6   7   9   \n",
       "283           Arsenal         Norwich     4     0  13   8    8    2   6   2   \n",
       "284           Watford        West Ham     1     3  23  16    3   10   8   7   \n",
       "\n",
       "     ...       HDS       ADS       HXG       AXG  PastFTHG  PastFTAG  PastHS  \\\n",
       "265  ...  1.042654  1.646341  1.501926  1.024362       5.0       4.0    39.0   \n",
       "266  ...  1.374408  1.402439  2.066752  1.543194       3.0       4.0    23.0   \n",
       "267  ...  0.473934  0.609756  1.968335  1.297082      11.0       3.0    60.0   \n",
       "268  ...  0.568720  1.097561  1.463415  0.439012       3.0       7.0    19.0   \n",
       "269  ...  0.947867  1.951220  2.875481  1.197306       3.0       3.0    39.0   \n",
       "270  ...  1.042654  1.463415  2.053915  0.585350       1.0       3.0    36.0   \n",
       "271  ...  0.947867  1.951220  2.875481  1.197306       2.0       2.0    26.0   \n",
       "272  ...  0.947867  1.036585  2.255028  0.798204       8.0       0.0    32.0   \n",
       "273  ...  1.042654  1.646341  1.501926  1.024362       4.0       6.0    27.0   \n",
       "274  ...  0.568720  1.097561  1.463415  0.439012       2.0       2.0    11.0   \n",
       "275  ...  0.710900  1.524390  1.283697  0.648541       3.0       4.0    19.0   \n",
       "276  ...  0.568720  1.097561  1.463415  0.439012       0.0       6.0     4.0   \n",
       "277  ...  0.947867  1.036585  2.255028  0.798204       7.0       3.0    40.0   \n",
       "278  ...  1.374408  1.524390  2.139495  1.060946       2.0       2.0    16.0   \n",
       "279  ...  0.947867  1.036585  2.255028  0.798204       5.0       1.0    24.0   \n",
       "280  ...  0.947867  1.951220  2.875481  1.197306       0.0       0.0     9.0   \n",
       "281  ...  0.473934  0.609756  1.968335  1.297082       5.0       0.0    23.0   \n",
       "282  ...  0.710900  1.524390  1.283697  0.648541       2.0       3.0    13.0   \n",
       "283  ...  0.947867  1.036585  2.255028  0.798204       4.0       0.0    13.0   \n",
       "284  ...  1.042654  1.463415  2.053915  0.585350       1.0       3.0    23.0   \n",
       "\n",
       "     PastAS  PastHST  PastAST  \n",
       "265    41.0     20.0     16.0  \n",
       "266    54.0      8.0     12.0  \n",
       "267    29.0     21.0      8.0  \n",
       "268    34.0      6.0     13.0  \n",
       "269    13.0     16.0      7.0  \n",
       "270    22.0      6.0      7.0  \n",
       "271    24.0     11.0      5.0  \n",
       "272    16.0     14.0      3.0  \n",
       "273    33.0     14.0     16.0  \n",
       "274    24.0      4.0      3.0  \n",
       "275    34.0      7.0     20.0  \n",
       "276    41.0      1.0     14.0  \n",
       "277    28.0     24.0      8.0  \n",
       "278    10.0      3.0      3.0  \n",
       "279    13.0     15.0      5.0  \n",
       "280    10.0      3.0      3.0  \n",
       "281     6.0      9.0      1.0  \n",
       "282    14.0      4.0      6.0  \n",
       "283     8.0      8.0      2.0  \n",
       "284    16.0      3.0     10.0  \n",
       "\n",
       "[20 rows x 22 columns]"
      ]
     },
     "execution_count": 12,
     "metadata": {},
     "output_type": "execute_result"
    }
   ],
   "source": [
    "# Recent k performance\n",
    "k = 3\n",
    "X_train = X_train.reset_index(drop=True)\n",
    "\n",
    "for idx in range(X_train.shape[0]-1, -1, -1):\n",
    "    row = X_train.iloc[idx]\n",
    "    ht = row.HomeTeam\n",
    "    at = row.AwayTeam\n",
    "    \n",
    "    ht_stats = X_train.loc[idx:][(X_train.HomeTeam == ht) | (X_train.AwayTeam == ht)].head(k)\n",
    "    at_stats = X_train.loc[idx:][(X_train.HomeTeam == at) | (X_train.AwayTeam == at)].head(k)\n",
    "    \n",
    "    X_train.at[idx, 'PastFTHG'] =  (ht_stats[ht_stats.HomeTeam == ht].FTHG.sum() + ht_stats[ht_stats.AwayTeam == ht].FTAG.sum())\n",
    "    X_train.at[idx, 'PastFTAG'] =  (at_stats[at_stats.HomeTeam == at].FTHG.sum() + at_stats[at_stats.AwayTeam == at].FTAG.sum())\n",
    "    X_train.at[idx, 'PastHS'] =  (ht_stats[ht_stats.HomeTeam == ht].HS.sum() + ht_stats[ht_stats.AwayTeam == ht].AS.sum())\n",
    "    X_train.at[idx, 'PastAS'] =  (at_stats[at_stats.HomeTeam == at].HS.sum() + at_stats[at_stats.AwayTeam == at].AS.sum())\n",
    "    X_train.at[idx, 'PastHST'] =  (ht_stats[ht_stats.HomeTeam == ht].HST.sum() + ht_stats[ht_stats.AwayTeam == ht].AST.sum())\n",
    "    X_train.at[idx, 'PastAST'] =  (at_stats[at_stats.HomeTeam == at].HST.sum() + at_stats[at_stats.AwayTeam == at].AST.sum())\n",
    "X_train.tail(20)"
   ]
  },
  {
   "cell_type": "code",
   "execution_count": 13,
   "metadata": {},
   "outputs": [],
   "source": [
    "X_train['PastGoalDiff'] = X_train['PastFTHG'] - X_train['PastFTAG']\n",
    "X_train['PastShotsDiff'] = X_train['PastHS'] - X_train['PastAS']\n",
    "X_train['PastShotsOnTargetDiff'] = X_train['PastHST'] - X_train['PastAST']\n",
    "X_train.drop(['PastFTHG', 'PastFTAG', 'PastHS', 'PastAS', 'PastHST', 'PastAST'], axis=1, inplace=True)"
   ]
  },
  {
   "cell_type": "code",
   "execution_count": 14,
   "metadata": {},
   "outputs": [
    {
     "data": {
      "text/plain": [
       "array([[-0.93419564, -0.29073395,  0.7916379 , ...,  0.20347557,\n",
       "         0.73706699,  0.92318476],\n",
       "       [-1.0415528 , -0.54647215, -1.04513388, ..., -0.0794051 ,\n",
       "        -0.4679943 ,  0.06655518],\n",
       "       [-1.0415528 , -1.44155585,  0.17938064, ...,  0.76923693,\n",
       "        -0.63232083,  0.80080911],\n",
       "       ...,\n",
       "       [-1.0415528 , -0.41860305, -0.27981231, ..., -0.36228578,\n",
       "        -0.13934122, -0.30057178],\n",
       "       [ 0.99823324, -0.54647215,  0.48550927, ...,  1.0521176 ,\n",
       "         0.18931186,  0.67843345],\n",
       "       [-0.18269552, -1.05794855,  0.7916379 , ..., -0.64516645,\n",
       "         0.29886289, -0.91245006]])"
      ]
     },
     "execution_count": 14,
     "metadata": {},
     "output_type": "execute_result"
    }
   ],
   "source": [
    "X_train_1 = X_train.copy()\n",
    "X_train_1 = X_train_1[['HAS', 'AAS', 'HDS', 'ADS', 'HXG', 'AXG', 'PastGoalDiff', 'PastShotsDiff', 'PastShotsOnTargetDiff']]\n",
    "scaler = StandardScaler()\n",
    "X_train_1 = scaler.fit_transform(X_train_1)\n",
    "pickle.dump(scaler, open('myscaler.pkl', 'wb'))\n",
    "X_train_1"
   ]
  },
  {
   "cell_type": "code",
   "execution_count": 15,
   "metadata": {},
   "outputs": [
    {
     "data": {
      "text/plain": [
       "0.5333333333333333"
      ]
     },
     "execution_count": 15,
     "metadata": {},
     "output_type": "execute_result"
    }
   ],
   "source": [
    "knn_clf = KNeighborsClassifier(n_neighbors=10)\n",
    "knn_clf.fit(X_train_1, y_train)\n",
    "scores = cross_val_score(knn_clf, X_train_1, y_train, cv=3)\n",
    "np.mean(scores)"
   ]
  },
  {
   "cell_type": "code",
   "execution_count": 16,
   "metadata": {},
   "outputs": [],
   "source": [
    "class DumbClassifier(BaseEstimator, TransformerMixin):\n",
    "    \"\"\"This classifier predicts 1 only\"\"\"\n",
    "    \n",
    "    def fit(self, X, y=None):\n",
    "        pass\n",
    "    \n",
    "    def predict(self, X):\n",
    "        return np.ones((len(X)))"
   ]
  },
  {
   "cell_type": "code",
   "execution_count": 17,
   "metadata": {},
   "outputs": [
    {
     "data": {
      "text/plain": [
       "0.45263157894736844"
      ]
     },
     "execution_count": 17,
     "metadata": {},
     "output_type": "execute_result"
    }
   ],
   "source": [
    "dumb_clf = DumbClassifier()\n",
    "np.mean(cross_val_score(dumb_clf, X_train_1, y_train, cv=3, scoring='accuracy'))"
   ]
  },
  {
   "cell_type": "code",
   "execution_count": 18,
   "metadata": {},
   "outputs": [
    {
     "data": {
      "text/plain": [
       "<sklearn.metrics._plot.confusion_matrix.ConfusionMatrixDisplay at 0x7fbdb178a7f0>"
      ]
     },
     "execution_count": 18,
     "metadata": {},
     "output_type": "execute_result"
    },
    {
     "data": {
      "image/png": "[encoded data removed]",
      "text/plain": [
       "<Figure size 432x288 with 2 Axes>"
      ]
     },
     "metadata": {
      "needs_background": "light"
     },
     "output_type": "display_data"
    }
   ],
   "source": [
    "plot_confusion_matrix(knn_clf, X_train_1, y_train)"
   ]
  },
  {
   "cell_type": "code",
   "execution_count": 19,
   "metadata": {},
   "outputs": [
    {
     "name": "stdout",
     "output_type": "stream",
     "text": [
      "              precision    recall  f1-score   support\n",
      "\n",
      "          -1       0.54      0.59      0.56        87\n",
      "           0       0.33      0.25      0.28        69\n",
      "           1       0.60      0.65      0.62       129\n",
      "\n",
      "    accuracy                           0.53       285\n",
      "   macro avg       0.49      0.49      0.49       285\n",
      "weighted avg       0.52      0.53      0.52       285\n",
      "\n"
     ]
    }
   ],
   "source": [
    "y_pred = cross_val_predict(knn_clf, X_train_1, y_train, cv=3)\n",
    "print(classification_report(y_train, y_pred))"
   ]
  },
  {
   "cell_type": "markdown",
   "metadata": {},
   "source": [
    "#### Away Report\n",
    "- The ***KNN*** model could only classified 39% of the away wins correctly out of all away wins prediction it made(precision)\n",
    "- The ***KNN*** model could only classified 46% of the away wins correctly out of all away wins present in the data(recall)\n",
    "\n",
    "#### Draw Report\n",
    "- The ***KNN*** model could only classified 31% of the draws correctly out of all draw prediction it made(precision)\n",
    "- The ***KNN*** model could only classified 25% of the draws correctly out of all draw present in the data(recall)\n",
    "\n",
    "#### Home Report\n",
    "- The ***KNN*** model could only classified 54% of the home wins correctly out of all home wins prediction it made(precision)\n",
    "- The ***KNN*** model could only classified 53% of the home wins correctly out of all home wins present in the data(recall)\n",
    "\n",
    "\n",
    "We obtained an accuracy score of 44% which is no better than a \"dumb classifier\" that predicts only ***Home***"
   ]
  },
  {
   "cell_type": "markdown",
   "metadata": {},
   "source": [
    "# Training Pipeline"
   ]
  },
  {
   "cell_type": "code",
   "execution_count": 20,
   "metadata": {},
   "outputs": [],
   "source": [
    "class DataPreparation(BaseEstimator, TransformerMixin):\n",
    "    \n",
    "    def __init__(self, k=3):\n",
    "        self.k = k\n",
    "        \n",
    "    def fit(self, X, y=None):\n",
    "        return self\n",
    "    \n",
    "    def transform(self, X, y=None):\n",
    "        average_ht_goals = X.FTHG.sum() / X.shape[0]\n",
    "        average_at_goals = X.FTAG.sum() / X.shape[0]\n",
    "        average_ht_conceded = average_at_goals\n",
    "        average_at_conceded = average_ht_goals\n",
    "        \n",
    "        ht = X.groupby('HomeTeam')\n",
    "        at = X.groupby('AwayTeam')\n",
    "\n",
    "        df = pd.DataFrame(columns=['Teams', 'HTG', 'ATG', 'HTC', 'ATC', 'HAS', 'AAS', 'HDS', 'ADS'])\n",
    "        teams = ht.groups.keys()\n",
    "        num_games = X.shape[0] / 20\n",
    "        df['Teams'] = teams\n",
    "        df['HTG'] = ht.FTHG.sum().values\n",
    "        df['ATG'] = at.FTAG.sum().values\n",
    "        df['HTC'] = ht.FTAG.sum().values\n",
    "        df['ATC'] = at.FTHG.sum().values\n",
    "        df['HAS'] = df['HTG'] / num_games / average_ht_goals\n",
    "        df['AAS'] = df['ATG'] / num_games / average_at_goals\n",
    "        df['HDS'] = df['HTC'] / num_games / average_at_conceded\n",
    "        df['ADS'] = df['ATC'] / num_games / average_ht_conceded\n",
    "        \n",
    "        HAS = []\n",
    "        AAS = []\n",
    "        HDS = []\n",
    "        ADS = []\n",
    "        HXG = []\n",
    "        AXG = []\n",
    "\n",
    "        for idx, row in X.iterrows():\n",
    "            HAS.append(df[df['Teams'] == row['HomeTeam']]['HAS'].values[0])\n",
    "            AAS.append(df[df['Teams'] == row['HomeTeam']]['AAS'].values[0])\n",
    "            HDS.append(df[df['Teams'] == row['HomeTeam']]['HDS'].values[0])\n",
    "            ADS.append(df[df['Teams'] == row['HomeTeam']]['ADS'].values[0])\n",
    "        X.loc[:, 'HAS'] = HAS\n",
    "        X.loc[:, 'AAS'] = AAS\n",
    "        X.loc[:, 'HDS'] = HDS\n",
    "        X.loc[:, 'ADS'] = ADS\n",
    "\n",
    "        X.loc[:, 'HXG'] = np.array(HAS) * np.array(ADS) * average_ht_goals\n",
    "        X.loc[:, 'AXG'] = np.array(AAS) * np.array(HDS) * average_at_goals\n",
    "        \n",
    "\n",
    "        for idx in range(X.shape[0]-1, -1, -1):\n",
    "            row = X.iloc[idx]\n",
    "            ht = row.HomeTeam\n",
    "            at = row.AwayTeam\n",
    "\n",
    "            ht_stats = X.loc[idx:][(X.HomeTeam == ht) | (X.AwayTeam == ht)].head(self.k)\n",
    "            at_stats = X.loc[idx:][(X.HomeTeam == at) | (X.AwayTeam == at)].head(self.k)\n",
    "\n",
    "            X.at[idx, 'PastFTHG'] =  (ht_stats[ht_stats.HomeTeam == ht].FTHG.sum() + ht_stats[ht_stats.AwayTeam == ht].FTAG.sum())\n",
    "            X.at[idx, 'PastFTAG'] =  (at_stats[at_stats.HomeTeam == at].FTHG.sum() + at_stats[at_stats.AwayTeam == at].FTAG.sum())\n",
    "            X.at[idx, 'PastHS'] =  (ht_stats[ht_stats.HomeTeam == ht].HS.sum() + ht_stats[ht_stats.AwayTeam == ht].AS.sum())\n",
    "            X.at[idx, 'PastAS'] =  (at_stats[at_stats.HomeTeam == at].HS.sum() + at_stats[at_stats.AwayTeam == at].AS.sum())\n",
    "            X.at[idx, 'PastHST'] =  (ht_stats[ht_stats.HomeTeam == ht].HST.sum() + ht_stats[ht_stats.AwayTeam == ht].AST.sum())\n",
    "            X.at[idx, 'PastAST'] =  (at_stats[at_stats.HomeTeam == at].HST.sum() + at_stats[at_stats.AwayTeam == at].AST.sum())\n",
    "        \n",
    "        X['PastGoalDiff'] = X['PastFTHG'] - X['PastFTAG']\n",
    "        X['PastShotsDiff'] = X['PastHS'] - X['PastAS']\n",
    "        X['PastShotsOnTargetDiff'] = X['PastHST'] - X['PastAST']\n",
    "        X.drop(['PastFTHG', 'PastFTAG', 'PastHS', 'PastAS', 'PastHST', 'PastAST'], axis=1, inplace=True)\n",
    "        \n",
    "        return X"
   ]
  },
  {
   "cell_type": "code",
   "execution_count": 21,
   "metadata": {},
   "outputs": [],
   "source": [
    "class FeatureSelection(BaseEstimator, TransformerMixin):\n",
    "    \n",
    "    def __init__(self, columns):\n",
    "        self.columns = columns\n",
    "    \n",
    "    def fit(self, X, y=None):\n",
    "        return self\n",
    "    \n",
    "    def transform(self, X, y=None):\n",
    "        return X[columns]"
   ]
  },
  {
   "cell_type": "code",
   "execution_count": 22,
   "metadata": {},
   "outputs": [],
   "source": [
    "# load the data\n",
    "\n",
    "def load_data(path='', columns=None):\n",
    "    if columns:\n",
    "        return pd.read_csv(path)[columns]\n",
    "    else:\n",
    "        return pd.read_csv(path)\n",
    "\n",
    "columns = ['HomeTeam', 'AwayTeam', 'FTHG', 'FTAG', 'FTR', 'HS', 'AS', 'HST', 'AST', 'HC', 'AC']\n",
    "s2019_2020 = load_data('data/2019-2020.csv', columns)\n",
    "s2018_2019 = load_data('data/2018-2019.csv', columns)\n",
    "s2017_2018 = load_data('data/2017-2018.csv', columns)\n",
    "s2016_2017 = load_data('data/2016-2017.csv', columns)\n",
    "s2015_2016 = load_data('data/2015-2016.csv', columns)\n",
    "s2014_2015 = load_data('data/2014-2015.csv', columns)\n",
    "s2013_2014 = load_data('data/2013-2014.csv', columns)\n",
    "s2012_2013 = load_data('data/2012-2013.csv', columns)\n",
    "s2011_2012 = load_data('data/2011-2012.csv', columns)\n",
    "s2010_2011 = load_data('data/2010-2011.csv', columns)"
   ]
  },
  {
   "cell_type": "code",
   "execution_count": 23,
   "metadata": {},
   "outputs": [
    {
     "name": "stderr",
     "output_type": "stream",
     "text": [
      "/root/anaconda3/lib/python3.7/site-packages/ipykernel_launcher.py:57: UserWarning: Boolean Series key will be reindexed to match DataFrame index.\n",
      "/root/anaconda3/lib/python3.7/site-packages/ipykernel_launcher.py:58: UserWarning: Boolean Series key will be reindexed to match DataFrame index.\n"
     ]
    },
    {
     "name": "stdout",
     "output_type": "stream",
     "text": [
      "<class 'pandas.core.frame.DataFrame'>\n",
      "Int64Index: 3800 entries, 0 to 379\n",
      "Data columns (total 10 columns):\n",
      "HAS                      3800 non-null float64\n",
      "AAS                      3800 non-null float64\n",
      "HDS                      3800 non-null float64\n",
      "ADS                      3800 non-null float64\n",
      "HXG                      3800 non-null float64\n",
      "AXG                      3800 non-null float64\n",
      "PastGoalDiff             3800 non-null float64\n",
      "PastShotsDiff            3800 non-null float64\n",
      "PastShotsOnTargetDiff    3800 non-null float64\n",
      "FTR                      3800 non-null object\n",
      "dtypes: float64(9), object(1)\n",
      "memory usage: 326.6+ KB\n"
     ]
    }
   ],
   "source": [
    "columns = ['HAS', 'AAS', 'HDS', 'ADS', 'HXG', 'AXG', 'PastGoalDiff', 'PastShotsDiff', 'PastShotsOnTargetDiff', 'FTR']\n",
    "pipeline = Pipeline(\n",
    "    steps=[\n",
    "        ('data_preparation', DataPreparation(k=3)),\n",
    "        ('feature_selection', FeatureSelection(columns))\n",
    "    ]\n",
    ")\n",
    "\n",
    "football_data = pd.DataFrame(columns=columns)\n",
    "football_data = pd.concat([football_data, pipeline.fit_transform(s2010_2011)])\n",
    "football_data = pd.concat([football_data, pipeline.fit_transform(s2011_2012)])\n",
    "football_data = pd.concat([football_data, pipeline.fit_transform(s2012_2013)])\n",
    "football_data = pd.concat([football_data, pipeline.fit_transform(s2013_2014)])\n",
    "football_data = pd.concat([football_data, pipeline.fit_transform(s2014_2015)])\n",
    "football_data = pd.concat([football_data, pipeline.fit_transform(s2015_2016)])\n",
    "football_data = pd.concat([football_data, pipeline.fit_transform(s2016_2017)])\n",
    "football_data = pd.concat([football_data, pipeline.fit_transform(s2017_2018)])\n",
    "football_data = pd.concat([football_data, pipeline.fit_transform(s2018_2019)])\n",
    "football_data = pd.concat([football_data, pipeline.fit_transform(s2019_2020)])\n",
    "\n",
    "football_data.info()"
   ]
  },
  {
   "cell_type": "code",
   "execution_count": 24,
   "metadata": {},
   "outputs": [],
   "source": [
    "football_data.FTR = football_data.apply(lambda row: transform_ftr(row, 'FTR'), axis=1)\n",
    "X = football_data.drop(['FTR'], axis=1)\n",
    "y = football_data['FTR']"
   ]
  },
  {
   "cell_type": "code",
   "execution_count": 25,
   "metadata": {},
   "outputs": [
    {
     "name": "stdout",
     "output_type": "stream",
     "text": [
      "KNN Train Score: 0.6513931888544892\n",
      "SVC Train Score: 0.6656346749226006\n",
      "GNB Train Score: 0.5523219814241486\n",
      "Random Forest Train Score: 0.6643962848297214\n"
     ]
    }
   ],
   "source": [
    "X_train, X_test, y_train, y_test = train_test_split(X, y, random_state=42, test_size=.15, stratify=y)\n",
    "scaler = StandardScaler()\n",
    "X_train = scaler.fit_transform(X_train)\n",
    "X_test = scaler.transform(X_test)\n",
    "\n",
    "knn_clf = KNeighborsClassifier(n_neighbors=10)\n",
    "svc_clf = SVC(C=10)\n",
    "gnb_clf = GaussianNB()\n",
    "forest_clf = RandomForestClassifier(n_estimators=1000, max_depth=8, min_samples_split=40)\n",
    "\n",
    "knn_clf.fit(X_train, y_train)\n",
    "print('KNN Train Score: {}'.format(knn_clf.score(X_train, y_train)))\n",
    "\n",
    "svc_clf.fit(X_train, y_train)\n",
    "print('SVC Train Score: {}'.format(svc_clf.score(X_train, y_train)))\n",
    "\n",
    "gnb_clf.fit(X_train, y_train)\n",
    "print('GNB Train Score: {}'.format(gnb_clf.score(X_train, y_train)))\n",
    "\n",
    "forest_clf.fit(X_train, y_train)\n",
    "print('Random Forest Train Score: {}'.format(forest_clf.score(X_train, y_train)))"
   ]
  },
  {
   "cell_type": "code",
   "execution_count": 26,
   "metadata": {},
   "outputs": [
    {
     "name": "stdout",
     "output_type": "stream",
     "text": [
      "Cross Validated KNN mean score: 0.5733723259455622\n",
      "Cross Validated SVC mean score: 0.5916412679674943\n",
      "Cross Validated GNB mean score: 0.5486098886369154\n",
      "Cross Validated Random Forest mean score: 0.6080483098790873\n"
     ]
    }
   ],
   "source": [
    "knn_scores = cross_val_score(knn_clf, X_train, y_train, cv=3)\n",
    "print('Cross Validated KNN mean score: {}'.format(knn_scores.mean()))\n",
    "\n",
    "svc_scores = cross_val_score(svc_clf, X_train, y_train, cv=3)\n",
    "print('Cross Validated SVC mean score: {}'.format(svc_scores.mean()))\n",
    "\n",
    "gnb_scores = cross_val_score(gnb_clf, X_train, y_train, cv=3)\n",
    "print('Cross Validated GNB mean score: {}'.format(gnb_scores.mean()))\n",
    "\n",
    "forest_scores = cross_val_score(forest_clf, X_train, y_train, cv=3)\n",
    "print('Cross Validated Random Forest mean score: {}'.format(forest_scores.mean()))"
   ]
  },
  {
   "cell_type": "code",
   "execution_count": 27,
   "metadata": {},
   "outputs": [
    {
     "name": "stdout",
     "output_type": "stream",
     "text": [
      "KNN\n"
     ]
    },
    {
     "data": {
      "image/png": "[encoded data removed]",
      "text/plain": [
       "<Figure size 432x288 with 2 Axes>"
      ]
     },
     "metadata": {
      "needs_background": "light"
     },
     "output_type": "display_data"
    }
   ],
   "source": [
    "print('KNN')\n",
    "plot_confusion_matrix(knn_clf, X_train, y_train)\n",
    "plt.show()"
   ]
  },
  {
   "cell_type": "code",
   "execution_count": 28,
   "metadata": {},
   "outputs": [
    {
     "name": "stdout",
     "output_type": "stream",
     "text": [
      "SVC\n"
     ]
    },
    {
     "data": {
      "image/png": "[encoded data removed]",
      "text/plain": [
       "<Figure size 432x288 with 2 Axes>"
      ]
     },
     "metadata": {
      "needs_background": "light"
     },
     "output_type": "display_data"
    }
   ],
   "source": [
    "print('SVC')\n",
    "plot_confusion_matrix(svc_clf, X_train, y_train)\n",
    "plt.show()"
   ]
  },
  {
   "cell_type": "code",
   "execution_count": 29,
   "metadata": {},
   "outputs": [
    {
     "name": "stdout",
     "output_type": "stream",
     "text": [
      "Forest\n"
     ]
    },
    {
     "data": {
      "image/png": "[encoded data removed]",
      "text/plain": [
       "<Figure size 432x288 with 2 Axes>"
      ]
     },
     "metadata": {
      "needs_background": "light"
     },
     "output_type": "display_data"
    }
   ],
   "source": [
    "print('Forest')\n",
    "plot_confusion_matrix(forest_clf, X_train, y_train)\n",
    "plt.show()"
   ]
  },
  {
   "cell_type": "code",
   "execution_count": 30,
   "metadata": {},
   "outputs": [
    {
     "name": "stdout",
     "output_type": "stream",
     "text": [
      "GNB\n"
     ]
    },
    {
     "data": {
      "image/png": "[encoded data removed]",
      "text/plain": [
       "<Figure size 432x288 with 2 Axes>"
      ]
     },
     "metadata": {
      "needs_background": "light"
     },
     "output_type": "display_data"
    }
   ],
   "source": [
    "print('GNB')\n",
    "plot_confusion_matrix(gnb_clf, X_train, y_train)\n",
    "plt.show()"
   ]
  },
  {
   "cell_type": "markdown",
   "metadata": {},
   "source": [
    "## Classifcation Reports"
   ]
  },
  {
   "cell_type": "markdown",
   "metadata": {},
   "source": [
    "#### KNeigborsClassifier"
   ]
  },
  {
   "cell_type": "code",
   "execution_count": 31,
   "metadata": {},
   "outputs": [
    {
     "name": "stdout",
     "output_type": "stream",
     "text": [
      "              precision    recall  f1-score   support\n",
      "\n",
      "          -1       0.56      0.61      0.59       958\n",
      "           0       0.33      0.21      0.25       796\n",
      "           1       0.65      0.75      0.70      1476\n",
      "\n",
      "    accuracy                           0.57      3230\n",
      "   macro avg       0.52      0.52      0.51      3230\n",
      "weighted avg       0.55      0.57      0.56      3230\n",
      "\n"
     ]
    }
   ],
   "source": [
    "knn_pred = cross_val_predict(knn_clf, X_train, y_train)\n",
    "print(classification_report(y_train, knn_pred))"
   ]
  },
  {
   "cell_type": "markdown",
   "metadata": {},
   "source": [
    "#### SVC"
   ]
  },
  {
   "cell_type": "code",
   "execution_count": 32,
   "metadata": {},
   "outputs": [
    {
     "name": "stdout",
     "output_type": "stream",
     "text": [
      "              precision    recall  f1-score   support\n",
      "\n",
      "          -1       0.58      0.66      0.62       958\n",
      "           0       0.32      0.11      0.16       796\n",
      "           1       0.63      0.80      0.71      1476\n",
      "\n",
      "    accuracy                           0.59      3230\n",
      "   macro avg       0.51      0.52      0.50      3230\n",
      "weighted avg       0.54      0.59      0.55      3230\n",
      "\n"
     ]
    }
   ],
   "source": [
    "svc_pred = cross_val_predict(svc_clf, X_train, y_train)\n",
    "print(classification_report(y_train, svc_pred))"
   ]
  },
  {
   "cell_type": "markdown",
   "metadata": {},
   "source": [
    "#### Forest"
   ]
  },
  {
   "cell_type": "code",
   "execution_count": 33,
   "metadata": {},
   "outputs": [
    {
     "name": "stdout",
     "output_type": "stream",
     "text": [
      "              precision    recall  f1-score   support\n",
      "\n",
      "          -1       0.58      0.69      0.63       958\n",
      "           0       0.27      0.05      0.08       796\n",
      "           1       0.63      0.84      0.72      1476\n",
      "\n",
      "    accuracy                           0.60      3230\n",
      "   macro avg       0.50      0.53      0.48      3230\n",
      "weighted avg       0.53      0.60      0.54      3230\n",
      "\n"
     ]
    }
   ],
   "source": [
    "forest_pred = cross_val_predict(forest_clf, X_train, y_train)\n",
    "print(classification_report(y_train, forest_pred))"
   ]
  },
  {
   "cell_type": "code",
   "execution_count": 34,
   "metadata": {},
   "outputs": [
    {
     "name": "stdout",
     "output_type": "stream",
     "text": [
      "              precision    recall  f1-score   support\n",
      "\n",
      "          -1       0.51      0.71      0.60       958\n",
      "           0       0.31      0.21      0.25       796\n",
      "           1       0.68      0.62      0.65      1476\n",
      "\n",
      "    accuracy                           0.55      3230\n",
      "   macro avg       0.50      0.52      0.50      3230\n",
      "weighted avg       0.54      0.55      0.54      3230\n",
      "\n"
     ]
    }
   ],
   "source": [
    "gnb_pred = cross_val_predict(gnb_clf, X_train, y_train)\n",
    "print(classification_report(y_train, gnb_pred))"
   ]
  },
  {
   "cell_type": "markdown",
   "metadata": {},
   "source": [
    "## Hyperparameter tuning"
   ]
  },
  {
   "cell_type": "markdown",
   "metadata": {},
   "source": [
    "#### KneighborsClassifier"
   ]
  },
  {
   "cell_type": "code",
   "execution_count": 35,
   "metadata": {},
   "outputs": [
    {
     "data": {
      "text/plain": [
       "GridSearchCV(cv=3, estimator=KNeighborsClassifier(),\n",
       "             param_grid=[{'n_neighbors': range(1, 20),\n",
       "                          'weights': ['uniform', 'distance']}])"
      ]
     },
     "execution_count": 35,
     "metadata": {},
     "output_type": "execute_result"
    }
   ],
   "source": [
    "param_grid = [\n",
    "    {'n_neighbors': range(1, 20), 'weights': ['uniform', 'distance']}\n",
    "]\n",
    "\n",
    "knn_clf = KNeighborsClassifier()\n",
    "grid_search = GridSearchCV(knn_clf, param_grid, cv=3)\n",
    "grid_search.fit(X_train, y_train)"
   ]
  },
  {
   "cell_type": "code",
   "execution_count": 36,
   "metadata": {},
   "outputs": [
    {
     "data": {
      "text/plain": [
       "{'n_neighbors': 16, 'weights': 'uniform'}"
      ]
     },
     "execution_count": 36,
     "metadata": {},
     "output_type": "execute_result"
    }
   ],
   "source": [
    "grid_search.best_params_"
   ]
  },
  {
   "cell_type": "code",
   "execution_count": 37,
   "metadata": {},
   "outputs": [
    {
     "name": "stdout",
     "output_type": "stream",
     "text": [
      "KNN Train Score: 0.6362229102167183\n",
      "Cross Validated KNN mean score: 0.5854506586403325\n"
     ]
    }
   ],
   "source": [
    "knn_clf = grid_search.best_estimator_.fit(X_train, y_train)\n",
    "knn_scores = cross_val_score(knn_clf, X_train, y_train, cv=3)\n",
    "print('KNN Train Score: {}'.format(knn_clf.score(X_train, y_train)))\n",
    "print('Cross Validated KNN mean score: {}'.format(knn_scores.mean()))"
   ]
  },
  {
   "cell_type": "code",
   "execution_count": 38,
   "metadata": {},
   "outputs": [
    {
     "name": "stdout",
     "output_type": "stream",
     "text": [
      "              precision    recall  f1-score   support\n",
      "\n",
      "          -1       0.57      0.64      0.61       958\n",
      "           0       0.35      0.17      0.23       796\n",
      "           1       0.65      0.78      0.71      1476\n",
      "\n",
      "    accuracy                           0.59      3230\n",
      "   macro avg       0.52      0.53      0.51      3230\n",
      "weighted avg       0.55      0.59      0.56      3230\n",
      "\n"
     ]
    }
   ],
   "source": [
    "knn_pred = cross_val_predict(knn_clf, X_train, y_train)\n",
    "print(classification_report(y_train, knn_pred))"
   ]
  },
  {
   "cell_type": "markdown",
   "metadata": {},
   "source": [
    "#### SVC"
   ]
  },
  {
   "cell_type": "code",
   "execution_count": 39,
   "metadata": {},
   "outputs": [
    {
     "data": {
      "text/plain": [
       "GridSearchCV(cv=3, estimator=SVC(), param_grid=[{'C': range(1, 20)}])"
      ]
     },
     "execution_count": 39,
     "metadata": {},
     "output_type": "execute_result"
    }
   ],
   "source": [
    "param_grid = [\n",
    "    {'C': range(1, 20)}\n",
    "]\n",
    "\n",
    "svc_clf = SVC()\n",
    "grid_search = GridSearchCV(svc_clf, param_grid, cv=3)\n",
    "grid_search.fit(X_train, y_train)"
   ]
  },
  {
   "cell_type": "code",
   "execution_count": 40,
   "metadata": {},
   "outputs": [
    {
     "data": {
      "text/plain": [
       "{'C': 1}"
      ]
     },
     "execution_count": 40,
     "metadata": {},
     "output_type": "execute_result"
    }
   ],
   "source": [
    "grid_search.best_params_"
   ]
  },
  {
   "cell_type": "code",
   "execution_count": 41,
   "metadata": {},
   "outputs": [
    {
     "name": "stdout",
     "output_type": "stream",
     "text": [
      "SVC Train Score: 0.6294117647058823\n",
      "Cross Validated SVC mean score: 0.6027856303767292\n"
     ]
    }
   ],
   "source": [
    "svc_clf = grid_search.best_estimator_.fit(X_train, y_train)\n",
    "svc_scores = cross_val_score(svc_clf, X_train, y_train, cv=3)\n",
    "print('SVC Train Score: {}'.format(svc_clf.score(X_train, y_train)))\n",
    "print('Cross Validated SVC mean score: {}'.format(svc_scores.mean()))"
   ]
  },
  {
   "cell_type": "code",
   "execution_count": 42,
   "metadata": {},
   "outputs": [
    {
     "name": "stdout",
     "output_type": "stream",
     "text": [
      "              precision    recall  f1-score   support\n",
      "\n",
      "          -1       0.58      0.68      0.63       958\n",
      "           0       0.38      0.06      0.10       796\n",
      "           1       0.63      0.85      0.73      1476\n",
      "\n",
      "    accuracy                           0.60      3230\n",
      "   macro avg       0.53      0.53      0.48      3230\n",
      "weighted avg       0.55      0.60      0.54      3230\n",
      "\n"
     ]
    }
   ],
   "source": [
    "svc_pred = cross_val_predict(svc_clf, X_train, y_train)\n",
    "print(classification_report(y_train, svc_pred))"
   ]
  },
  {
   "cell_type": "code",
   "execution_count": 102,
   "metadata": {},
   "outputs": [],
   "source": [
    "gnb_model = gnb_clf\n",
    "svc_model = svc_clf\n",
    "knn_model = knn_clf\n",
    "forest_model = forest_clf\n",
    "pickle.dump(gnb_model, open('gnb_model.pkl', 'wb'))\n",
    "pickle.dump(svc_model, open('svc_model.pkl', 'wb'))\n",
    "pickle.dump(knn_model, open('knn_model.pkl', 'wb'))\n",
    "pickle.dump(forest_model, open('forest_model.pkl', 'wb'))"
   ]
  },
  {
   "cell_type": "code",
   "execution_count": 100,
   "metadata": {},
   "outputs": [
    {
     "name": "stdout",
     "output_type": "stream",
     "text": [
      "              precision    recall  f1-score   support\n",
      "\n",
      "          -1       0.54      0.79      0.64       169\n",
      "           0       0.31      0.19      0.23       140\n",
      "           1       0.72      0.66      0.69       261\n",
      "\n",
      "    accuracy                           0.58       570\n",
      "   macro avg       0.52      0.54      0.52       570\n",
      "weighted avg       0.57      0.58      0.56       570\n",
      "\n"
     ]
    }
   ],
   "source": [
    "model = pickle.load(open('model.pkl', 'rb'))\n",
    "predictions = model.predict(X_test)\n",
    "print(classification_report(y_test, predictions))"
   ]
  },
  {
   "cell_type": "markdown",
   "metadata": {},
   "source": [
    "# Prediction Pipeline"
   ]
  },
  {
   "cell_type": "code",
   "execution_count": 72,
   "metadata": {},
   "outputs": [],
   "source": [
    "class FeatureEngineerAdder(BaseEstimator, TransformerMixin):\n",
    "    \n",
    "    def __init__(self):\n",
    "        pass\n",
    "        \n",
    "    def fit(self, X, y=None):\n",
    "        return self\n",
    "    \n",
    "    def transform(self, X, y=None):\n",
    "        HAS = X['HTG'] / X['num_games'] / X['avg_hs']\n",
    "        AAS = X['ATG'] / X['num_games'] / X['avg_as']\n",
    "        HDS = X['HTC'] / X['num_games'] / X['avg_ac']\n",
    "        ADS = X['ATC'] / X['num_games'] / X['avg_hc']\n",
    "        HXG = HAS * ADS * X['avg_hs']\n",
    "        AXG = AAS * HDS * X['avg_as']\n",
    "        PastGoalDiff = X['PastFTHG'] - X['PastFTAG']\n",
    "        PastShotsDiff = X['PastHS'] - X['PastAS']\n",
    "        PastShotsOnTargetDiff = X['PastHST'] - X['PastAST']\n",
    "        \n",
    "        return np.c_[HAS, AAS, HDS, ADS, HXG, AXG, PastGoalDiff, PastShotsDiff, PastShotsOnTargetDiff]"
   ]
  },
  {
   "cell_type": "code",
   "execution_count": 83,
   "metadata": {},
   "outputs": [],
   "source": [
    "def extract_data(data, fixtures):\n",
    "    \n",
    "    df = pd.DataFrame(columns=['num_games', 'HTG', 'ATG', 'HTC', 'ATC', \n",
    "                               'avg_hs', 'avg_as', 'avg_hc', 'avg_ac',\n",
    "                              'PastFTHG', 'PastFTAG', 'PastHS', 'PastAS', 'PastHST', 'PastAST']) \n",
    "    \n",
    "    df.num_games = [data.shape[0] / 20] * len(fixtures)\n",
    "    df.avg_hs = [data.FTHG.sum() / data.shape[0]] * len(fixtures)\n",
    "    df.avg_as = [data.FTAG.sum() / data.shape[0]] * len(fixtures)\n",
    "    df.avg_hc = df.avg_as\n",
    "    df.avg_ac = df.avg_hs\n",
    "    \n",
    "    HTG = []\n",
    "    ATG = []\n",
    "    HTC = []\n",
    "    ATC = []\n",
    "    PastFTHG = []\n",
    "    PastFTAG = []\n",
    "    PastHS = []\n",
    "    PastAS = []\n",
    "    PastHST = []\n",
    "    PastAST = []\n",
    "    \n",
    "    for fixture in fixtures:\n",
    "        ht = fixture.ht\n",
    "        at = fixture.at\n",
    "        \n",
    "        average_ht_goals = data.FTHG.sum() / data.shape[0]\n",
    "        average_at_goals = data.FTAG.sum() / data.shape[0]\n",
    "        average_ht_conceded = average_at_goals\n",
    "        average_at_conceded = average_ht_goals    \n",
    "\n",
    "        ht_group = data.groupby('HomeTeam')\n",
    "        at_group = data.groupby('AwayTeam')\n",
    "        ht_data = ht_group.get_group(ht)\n",
    "        at_data = at_group.get_group(at)\n",
    "        HTG.append(ht_data.FTHG.sum())\n",
    "        ATG.append(at_data.FTAG.sum())\n",
    "        HTC.append(ht_data.FTAG.sum())\n",
    "        ATC.append(at_data.FTHG.sum())   \n",
    "        \n",
    "        ht_stats = data[(data.HomeTeam == ht) | (data.AwayTeam == ht)].tail(3)\n",
    "        at_stats = data[(data.HomeTeam == at) | (data.AwayTeam == at)].tail(3)\n",
    "        \n",
    "        PastFTHG.append(ht_stats[ht_stats.HomeTeam == ht].FTHG.sum() + ht_stats[ht_stats.AwayTeam == ht].FTAG.sum())\n",
    "        PastFTAG.append(at_stats[at_stats.HomeTeam == at].FTHG.sum() + at_stats[at_stats.AwayTeam == at].FTAG.sum())\n",
    "        PastHS.append(ht_stats[ht_stats.HomeTeam == ht].HS.sum() + ht_stats[ht_stats.AwayTeam == ht].AS.sum())\n",
    "        PastAS.append(at_stats[at_stats.HomeTeam == at].HS.sum() + at_stats[at_stats.AwayTeam == at].AS.sum())\n",
    "        PastHST.append(ht_stats[ht_stats.HomeTeam == ht].HST.sum() + ht_stats[ht_stats.AwayTeam == ht].AST.sum())\n",
    "        PastAST.append(at_stats[at_stats.HomeTeam == at].HST.sum() + at_stats[at_stats.AwayTeam == at].AST.sum())\n",
    "        \n",
    "    df.HTG = HTG\n",
    "    df.ATG = ATG\n",
    "    df.HTC = HTC\n",
    "    df.ATC = ATC\n",
    "    df.PastFTHG = PastFTHG\n",
    "    df.PastFTAG = PastFTAG\n",
    "    df.PastHS = PastHS\n",
    "    df.PastAS = PastAS\n",
    "    df.PastHST = PastHST\n",
    "    df.PastAST = PastAST\n",
    "    \n",
    "    return df"
   ]
  },
  {
   "cell_type": "code",
   "execution_count": 86,
   "metadata": {},
   "outputs": [],
   "source": [
    "pipeline = Pipeline(\n",
    "    steps=[\n",
    "        ('feature_engineer_adder', FeatureEngineerAdder()),\n",
    "        ('std_scaler', pickle.load(open('myscaler.pkl', 'rb')))\n",
    "    ]\n",
    ")"
   ]
  },
  {
   "cell_type": "code",
   "execution_count": 126,
   "metadata": {},
   "outputs": [
    {
     "data": {
      "text/plain": [
       "array(['Fulham', 'Crystal Palace', 'Liverpool', 'West Ham', 'West Brom',\n",
       "       'Tottenham', 'Brighton', 'Sheffield United', 'Everton', 'Leeds',\n",
       "       'Man United', 'Arsenal', 'Southampton', 'Newcastle', 'Chelsea',\n",
       "       'Leicester', 'Aston Villa', 'Wolves', 'Burnley', 'Man City'],\n",
       "      dtype=object)"
      ]
     },
     "execution_count": 126,
     "metadata": {},
     "output_type": "execute_result"
    }
   ],
   "source": [
    "E0 = pd.read_csv('E0.csv')\n",
    "E0.HomeTeam.unique()"
   ]
  },
  {
   "cell_type": "code",
   "execution_count": 127,
   "metadata": {},
   "outputs": [
    {
     "data": {
      "text/html": [
       "<div>\n",
       "<style scoped>\n",
       "    .dataframe tbody tr th:only-of-type {\n",
       "        vertical-align: middle;\n",
       "    }\n",
       "\n",
       "    .dataframe tbody tr th {\n",
       "        vertical-align: top;\n",
       "    }\n",
       "\n",
       "    .dataframe thead th {\n",
       "        text-align: right;\n",
       "    }\n",
       "</style>\n",
       "<table border=\"1\" class=\"dataframe\">\n",
       "  <thead>\n",
       "    <tr style=\"text-align: right;\">\n",
       "      <th></th>\n",
       "      <th>num_games</th>\n",
       "      <th>HTG</th>\n",
       "      <th>ATG</th>\n",
       "      <th>HTC</th>\n",
       "      <th>ATC</th>\n",
       "      <th>avg_hs</th>\n",
       "      <th>avg_as</th>\n",
       "      <th>avg_hc</th>\n",
       "      <th>avg_ac</th>\n",
       "      <th>PastFTHG</th>\n",
       "      <th>PastFTAG</th>\n",
       "      <th>PastHS</th>\n",
       "      <th>PastAS</th>\n",
       "      <th>PastHST</th>\n",
       "      <th>PastAST</th>\n",
       "    </tr>\n",
       "  </thead>\n",
       "  <tbody>\n",
       "    <tr>\n",
       "      <th>0</th>\n",
       "      <td>13.25</td>\n",
       "      <td>11</td>\n",
       "      <td>18</td>\n",
       "      <td>15</td>\n",
       "      <td>13</td>\n",
       "      <td>1.324528</td>\n",
       "      <td>1.30566</td>\n",
       "      <td>1.30566</td>\n",
       "      <td>1.324528</td>\n",
       "      <td>1</td>\n",
       "      <td>7</td>\n",
       "      <td>28</td>\n",
       "      <td>32</td>\n",
       "      <td>11</td>\n",
       "      <td>10</td>\n",
       "    </tr>\n",
       "    <tr>\n",
       "      <th>1</th>\n",
       "      <td>13.25</td>\n",
       "      <td>10</td>\n",
       "      <td>14</td>\n",
       "      <td>20</td>\n",
       "      <td>28</td>\n",
       "      <td>1.324528</td>\n",
       "      <td>1.30566</td>\n",
       "      <td>1.30566</td>\n",
       "      <td>1.324528</td>\n",
       "      <td>1</td>\n",
       "      <td>1</td>\n",
       "      <td>21</td>\n",
       "      <td>26</td>\n",
       "      <td>6</td>\n",
       "      <td>7</td>\n",
       "    </tr>\n",
       "    <tr>\n",
       "      <th>2</th>\n",
       "      <td>13.25</td>\n",
       "      <td>20</td>\n",
       "      <td>13</td>\n",
       "      <td>16</td>\n",
       "      <td>23</td>\n",
       "      <td>1.324528</td>\n",
       "      <td>1.30566</td>\n",
       "      <td>1.30566</td>\n",
       "      <td>1.324528</td>\n",
       "      <td>2</td>\n",
       "      <td>3</td>\n",
       "      <td>36</td>\n",
       "      <td>35</td>\n",
       "      <td>10</td>\n",
       "      <td>10</td>\n",
       "    </tr>\n",
       "    <tr>\n",
       "      <th>3</th>\n",
       "      <td>13.25</td>\n",
       "      <td>12</td>\n",
       "      <td>26</td>\n",
       "      <td>17</td>\n",
       "      <td>12</td>\n",
       "      <td>1.324528</td>\n",
       "      <td>1.30566</td>\n",
       "      <td>1.30566</td>\n",
       "      <td>1.324528</td>\n",
       "      <td>1</td>\n",
       "      <td>4</td>\n",
       "      <td>66</td>\n",
       "      <td>39</td>\n",
       "      <td>20</td>\n",
       "      <td>14</td>\n",
       "    </tr>\n",
       "  </tbody>\n",
       "</table>\n",
       "</div>"
      ],
      "text/plain": [
       "   num_games  HTG  ATG  HTC  ATC    avg_hs   avg_as   avg_hc    avg_ac  \\\n",
       "0      13.25   11   18   15   13  1.324528  1.30566  1.30566  1.324528   \n",
       "1      13.25   10   14   20   28  1.324528  1.30566  1.30566  1.324528   \n",
       "2      13.25   20   13   16   23  1.324528  1.30566  1.30566  1.324528   \n",
       "3      13.25   12   26   17   12  1.324528  1.30566  1.30566  1.324528   \n",
       "\n",
       "   PastFTHG  PastFTAG  PastHS  PastAS  PastHST  PastAST  \n",
       "0         1         7      28      32       11       10  \n",
       "1         1         1      21      26        6        7  \n",
       "2         2         3      36      35       10       10  \n",
       "3         1         4      66      39       20       14  "
      ]
     },
     "execution_count": 127,
     "metadata": {},
     "output_type": "execute_result"
    }
   ],
   "source": [
    "Fixture = namedtuple('Fixture', 'ht at')\n",
    "fix_1 = Fixture('Burnley', 'Arsenal')\n",
    "fix_2 = Fixture('Sheffield United', 'Southampton')\n",
    "fix_3 = Fixture('Aston Villa', 'Wolves')\n",
    "fix_4 = Fixture('Brighton', 'Leicester')\n",
    "fixtures = [fix_1, fix_2, fix_3, fix_4]\n",
    "test_data = extract_data(E0, fixtures)\n",
    "test_data"
   ]
  },
  {
   "cell_type": "code",
   "execution_count": 121,
   "metadata": {},
   "outputs": [],
   "source": [
    "def transform_ftr_back(row, column_name):\n",
    "    if row[column_name] == 1:\n",
    "        return 'H'\n",
    "    if row[column_name] == -1:\n",
    "        return 'A'\n",
    "    else:\n",
    "        return 'D'"
   ]
  },
  {
   "cell_type": "code",
   "execution_count": 128,
   "metadata": {},
   "outputs": [
    {
     "data": {
      "text/html": [
       "<div>\n",
       "<style scoped>\n",
       "    .dataframe tbody tr th:only-of-type {\n",
       "        vertical-align: middle;\n",
       "    }\n",
       "\n",
       "    .dataframe tbody tr th {\n",
       "        vertical-align: top;\n",
       "    }\n",
       "\n",
       "    .dataframe thead th {\n",
       "        text-align: right;\n",
       "    }\n",
       "</style>\n",
       "<table border=\"1\" class=\"dataframe\">\n",
       "  <thead>\n",
       "    <tr style=\"text-align: right;\">\n",
       "      <th></th>\n",
       "      <th>HomeTeam</th>\n",
       "      <th>AwayTeam</th>\n",
       "      <th>GNB</th>\n",
       "      <th>SVC</th>\n",
       "      <th>KNN</th>\n",
       "      <th>Forest</th>\n",
       "    </tr>\n",
       "  </thead>\n",
       "  <tbody>\n",
       "    <tr>\n",
       "      <th>0</th>\n",
       "      <td>Burnley</td>\n",
       "      <td>Arsenal</td>\n",
       "      <td>A</td>\n",
       "      <td>A</td>\n",
       "      <td>A</td>\n",
       "      <td>A</td>\n",
       "    </tr>\n",
       "    <tr>\n",
       "      <th>1</th>\n",
       "      <td>Sheffield United</td>\n",
       "      <td>Southampton</td>\n",
       "      <td>A</td>\n",
       "      <td>A</td>\n",
       "      <td>H</td>\n",
       "      <td>H</td>\n",
       "    </tr>\n",
       "    <tr>\n",
       "      <th>2</th>\n",
       "      <td>Aston Villa</td>\n",
       "      <td>Wolves</td>\n",
       "      <td>D</td>\n",
       "      <td>A</td>\n",
       "      <td>A</td>\n",
       "      <td>A</td>\n",
       "    </tr>\n",
       "    <tr>\n",
       "      <th>3</th>\n",
       "      <td>Brighton</td>\n",
       "      <td>Leicester</td>\n",
       "      <td>D</td>\n",
       "      <td>A</td>\n",
       "      <td>A</td>\n",
       "      <td>A</td>\n",
       "    </tr>\n",
       "  </tbody>\n",
       "</table>\n",
       "</div>"
      ],
      "text/plain": [
       "           HomeTeam     AwayTeam GNB SVC KNN Forest\n",
       "0           Burnley      Arsenal   A   A   A      A\n",
       "1  Sheffield United  Southampton   A   A   H      H\n",
       "2       Aston Villa       Wolves   D   A   A      A\n",
       "3          Brighton    Leicester   D   A   A      A"
      ]
     },
     "execution_count": 128,
     "metadata": {},
     "output_type": "execute_result"
    }
   ],
   "source": [
    "test_data_tr = pipeline.transform(test_data)\n",
    "gnb_prediction = gnb_clf.predict(test_data_tr)\n",
    "svc_prediction = svc_clf.predict(test_data_tr)\n",
    "knn_prediction = knn_clf.predict(test_data_tr)\n",
    "forest_prediction = forest_clf.predict(test_data_tr)\n",
    "\n",
    "df = pd.DataFrame(columns=['HomeTeam', 'AwayTeam', 'GNB', 'SVC', 'KNN', 'Forest'])\n",
    "home_teams = []\n",
    "away_teams = []\n",
    "for fixture in fixtures:\n",
    "    home_teams.append(fixture.ht)\n",
    "    away_teams.append(fixture.at)\n",
    "\n",
    "df['HomeTeam'] = home_teams\n",
    "df['AwayTeam'] = away_teams\n",
    "\n",
    "df['GNB'] = gnb_prediction\n",
    "df['SVC'] = svc_prediction\n",
    "df['KNN'] = knn_prediction\n",
    "df['Forest'] = forest_prediction\n",
    "\n",
    "df.GNB = df.apply(lambda row: transform_ftr_back(row, 'GNB'), axis=1)\n",
    "df.SVC = df.apply(lambda row: transform_ftr_back(row, 'SVC'), axis=1)\n",
    "df.KNN = df.apply(lambda row: transform_ftr_back(row, 'KNN'), axis=1)\n",
    "df.Forest = df.apply(lambda row: transform_ftr_back(row, 'Forest'), axis=1)\n",
    "df"
   ]
  },
  {
   "cell_type": "code",
   "execution_count": null,
   "metadata": {},
   "outputs": [],
   "source": []
  },
  {
   "cell_type": "code",
   "execution_count": null,
   "metadata": {},
   "outputs": [],
   "source": []
  }
 ],
 "metadata": {
  "kernelspec": {
   "display_name": "Python 3",
   "language": "python",
   "name": "python3"
  },
  "language_info": {
   "codemirror_mode": {
    "name": "ipython",
    "version": 3
   },
   "file_extension": ".py",
   "mimetype": "text/x-python",
   "name": "python",
   "nbconvert_exporter": "python",
   "pygments_lexer": "ipython3",
   "version": "3.7.3"
  }
 },
 "nbformat": 4,
 "nbformat_minor": 2
}
